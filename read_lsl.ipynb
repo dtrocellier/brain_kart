{
 "cells": [
  {
   "cell_type": "code",
   "execution_count": null,
   "metadata": {
    "collapsed": true,
    "pycharm": {
     "is_executing": true
    }
   },
   "outputs": [
    {
     "name": "stderr",
     "output_type": "stream",
     "text": [
      "C:\\Users\\dtrocell\\Anaconda3\\envs\\workspace_3_9\\lib\\site-packages\\numpy\\_distributor_init.py:30: UserWarning: loaded more than 1 DLL from .libs:\n",
      "C:\\Users\\dtrocell\\Anaconda3\\envs\\workspace_3_9\\lib\\site-packages\\numpy\\.libs\\libopenblas.EL2C6PLE4ZYW3ECEVIV3OXXGRN2NRFM2.gfortran-win_amd64.dll\n",
      "C:\\Users\\dtrocell\\Anaconda3\\envs\\workspace_3_9\\lib\\site-packages\\numpy\\.libs\\libopenblas.GK7GX5KEQ4F6UYO3P26ULGBQYHGQO7J4.gfortran-win_amd64.dll\n",
      "  warnings.warn(\"loaded more than 1 DLL from .libs:\"\n"
     ]
    },
    {
     "name": "stdout",
     "output_type": "stream",
     "text": [
      "looking for an EEG stream...\n"
     ]
    }
   ],
   "source": [
    "from time import sleep\n",
    "\n",
    "import pylsl\n",
    "from pylsl import StreamInlet, resolve_stream\n",
    "import numpy as np\n",
    "import matplotlib.pyplot as plt\n",
    "\n",
    "# first resolve an EEG stream on the lab network\n",
    "print(\"looking for an EEG stream...\")\n",
    "streams = resolve_stream('type', 'EEG')\n",
    "\n",
    "# create a new inlet to read from the stream\n",
    "inlet = StreamInlet(streams[0])\n",
    "count=0\n",
    "arr=[]\n",
    "# for i in range(0,int(0.5*512)):\n",
    "#     # get a new sample (you can also omit the timestamp part if you're not\n",
    "#     # interested in it)\n",
    "#     sample, timestamp = inlet.pull_sample()\n",
    "#     # print(timestamp, sample,count)\n",
    "#     arr.append(sample)\n",
    "#     count=count+1\n",
    "# print('length', len(arr))\n",
    "# def channel(chnum):\n",
    "#     cha=[]\n",
    "#     for i in range(0,len(arr)):\n",
    "#         cha.append(arr[i][chnum])\n",
    "#     #print(len(cha))\n",
    "#     return cha\n",
    "# def singlechannelgraph(sf,chdata,chno):\n",
    "#     sf = 512\n",
    "#     rate=sf\n",
    "#     time = np.arange(256) / sf\n",
    "#\n",
    "#     # Plot the signal\n",
    "#     fig, ax = plt.subplots(1, 1, figsize=(12, 4))\n",
    "#     plt.plot(time, chdata, lw=1.5, color='k')\n",
    "#     plt.xlabel('Time (seconds)')\n",
    "#     plt.ylabel('Voltage')\n",
    "#     plt.xlim([time.min(), time.max()])\n",
    "#     plt.title('Channel %d EEG data'%(chno))\n",
    "# def singlechannelPSD(channeldata,sf):\n",
    "#\n",
    "#     from scipy import signal\n",
    "#\n",
    "#     # Define window length (0.5 seconds)\n",
    "#     win = 0.5 * sf\n",
    "#     freqs, psd = signal.welch(channeldata, sf, nperseg=win)\n",
    "#     p = (np.fft.rfft(channeldata))\n",
    "#\n",
    "#     f = np.linspace(0, 512/2, len(p))\n",
    "#     # print(freqs)\n",
    "#     #print(f)\n",
    "#     #plt.plot(f,p)\n",
    "#     # Plot the power spectrum\n",
    "#     #sns.set(font_scale=1.2, style='white')\n",
    "#     #    plt.figure(figsize=(8, 4))\n",
    "#     #    plt.plot(freqs, psd, color='k', lw=2)\n",
    "#     #    plt.xlabel('Frequency (Hz)')\n",
    "#     #    plt.ylabel('Power spectral density (V^2 / Hz)')\n",
    "#     #    plt.ylim([0, psd.max() * 1.1])\n",
    "#     #    plt.title(\"Welch's periodogram\")\n",
    "#     #    plt.xlim([0, freqs.max()])\n",
    "#     return freqs,psd,f,p\n",
    "# #sns.despine()\n",
    "# def Bandspecs_getidx_delta(lowb,highb,freqs,psd):\n",
    "#     low, high = lowb, highb\n",
    "#\n",
    "#     # Find intersecting values in frequency vector\n",
    "#     idx_delta = np.logical_and(freqs >= low, freqs <= high)\n",
    "#\n",
    "#     # Plot the power spectral density and fill the delta area\n",
    "#     plt.figure(figsize=(7, 4))\n",
    "#     plt.plot(freqs, psd, lw=2, color='k')\n",
    "#     plt.fill_between(freqs, psd, where=idx_delta, color='skyblue')\n",
    "#     plt.xlabel('Frequency (Hz)')\n",
    "#     plt.ylabel('Power spectral density (uV^2 / Hz)')\n",
    "#     plt.xlim([0, 40])\n",
    "#     plt.ylim([0, psd.max() * 1.1])\n",
    "#     plt.title(\"Welch's periodogram\")\n",
    "#     return idx_delta\n",
    "# #sns.despine()\n",
    "# from scipy.integrate import simps\n",
    "# # Frequency resolution\n",
    "#\n",
    "# def deltapower(idx_delta1,freqs,psd1,f,p):\n",
    "#     freq_res = freqs[1] - freqs[0]  # = 1 / 0.5 = 2\n",
    "#     #print(f)\n",
    "#     fr_res = f[1] - f[0]\n",
    "#     # Compute the absolute power by approximating the area under the curve\n",
    "#     delta_power = simps(p[idx_delta1], dx=fr_res)\n",
    "#     #print('Absolute delta power: %.3f uV^2' % delta_power)\n",
    "#     total_power = simps(p, dx=fr_res)\n",
    "#     delta_rel_power = delta_power / total_power\n",
    "#\n",
    "#     #print('Relative delta power: %.3f' % delta_rel_power)\n",
    "#     return delta_power\n",
    "# def relpower(idx_delta,freqs,psd,f,p):\n",
    "#     freq_res = freqs[1] - freqs[0]  # = 1 / 0.5 = 2\n",
    "#     fr_res = f[1] - f[0]\n",
    "#     # Compute the absolute power by approximating the area under the curve\n",
    "#     delta_power = simps(p[idx_delta], dx=fr_res)\n",
    "#     #print('Absolute delta power: %.3f uV^2' % delta_power)\n",
    "#     total_power = simps(p, dx=fr_res)\n",
    "#     delta_rel_power = delta_power / total_power\n",
    "#     #print('Relative delta power: %.3f' % delta_rel_power)\n",
    "#     return delta_rel_power\n",
    "# def _main(nc,sf):\n",
    "#     #nc=4\n",
    "#     #sf=512\n",
    "#     chan=[]\n",
    "#     for m in range(0,nc):\n",
    "#         chan.append(channel(m))\n",
    "#     for n in range(0,nc):\n",
    "#         singlechannelgraph(sf,chan[n],n)\n",
    "#\n",
    "#     freqs_all=[]\n",
    "#     psd_all=[]\n",
    "#     f_all=[]\n",
    "#     p_all=[]\n",
    "#     for o in range(0,nc):\n",
    "#         freqs,psd,f,p=singlechannelPSD(chan[o],sf)\n",
    "#         freqs_all.append(freqs)\n",
    "#         psd_all.append(psd)\n",
    "#         f_all.append(f)\n",
    "#         p_all.append(p)\n",
    "#     idx_delta=[]\n",
    "#     #for theta 4-7hz\n",
    "#     idx_delta.append(Bandspecs_getidx_delta(4,7,freqs_all[0],psd_all[0]))\n",
    "#     #for alpha 8-13hz\n",
    "#     idx_delta.append(Bandspecs_getidx_delta(8,13,freqs_all[1],psd_all[1]))\n",
    "#     #for beta 13-30hz\n",
    "#     idx_delta.append(Bandspecs_getidx_delta(13,30,freqs_all[2],psd_all[2]))\n",
    "#     abspower_sec=[]\n",
    "#     for p1 in range(0,nc):\n",
    "#         abspower_prim=[]\n",
    "#         for q in range(0,3):\n",
    "#             abspower_prim.append((deltapower(idx_delta[q],freqs_all[p1],psd_all[p1],f_all[p1],p_all[p1])).real)\n",
    "#         abspower_sec.append(abspower_prim)\n",
    "#     #print (len(abspower_sec),'x',int(len(abspower_prim)))\n",
    "#     relpower_sec=[]\n",
    "#     for p1 in range(0,nc):\n",
    "#         relpower_prim=[]\n",
    "#         for q in range(0,3):\n",
    "#             relpower_prim.append((relpower(idx_delta[q],freqs_all[p1],psd_all[p1],f_all[p1],p_all[p1])).real\n",
    "#                                  )\n",
    "#         #print('insideq',relpower_prim)\n",
    "#\n",
    "#         relpower_sec.append(relpower_prim)\n",
    "#     print(relpower_sec)\n",
    "#     #print('inside-----p')\n",
    "#     return relpower_sec\n",
    "#\n",
    "# nc,sf=input().split()\n",
    "# nc=int(nc)\n",
    "# sf=int(sf)\n",
    "# re_power=_main(nc,sf)\n",
    "# np_rev_power=np.array(re_power)#----#CHNLx3 Matrix\n",
    "# print('---Matrix---')\n",
    "# print(np_rev_power)\n",
    "# print(np_rev_power.shape)\n",
    "\n"
   ]
  },
  {
   "cell_type": "code",
   "execution_count": null,
   "outputs": [],
   "source": [
    "print(inlet)"
   ],
   "metadata": {
    "collapsed": false,
    "pycharm": {
     "is_executing": true
    }
   }
  },
  {
   "cell_type": "code",
   "execution_count": null,
   "outputs": [],
   "source": [
    "def send_speed(speed):\n",
    "    \"\"\"Send speed to Thymio\"\"\"\n",
    "    if speed > 0:\n",
    "        speed = 0\n",
    "    elif speed < 100:\n",
    "        speed = 100\n",
    "    else:\n",
    "        speed = -speed\n",
    "    print(speed)"
   ],
   "metadata": {
    "collapsed": false,
    "pycharm": {
     "is_executing": true
    }
   }
  },
  {
   "cell_type": "code",
   "execution_count": null,
   "outputs": [],
   "source": [
    "try : inlet = StreamInlet(streams[0])\n",
    "except : print('No stream found')\n",
    "while True:\n",
    "    # get a new sample (you can also omit the timestamp part if you're not\n",
    "    # interested in it)\n",
    "    sample, timestamp = inlet.pull_sample()\n",
    "    # print(timestamp, sample,count)\n",
    "    if sample[0] < 0 :\n",
    "        send_speed(sample[0])\n",
    "        # print(\"run\")\n",
    "    else :\n",
    "        send_speed(0)\n",
    "    sleep(0.1)\n",
    "        # print(\"stop\")\n",
    "    # arr.append(sample)\n"
   ],
   "metadata": {
    "collapsed": false,
    "pycharm": {
     "is_executing": true
    }
   }
  },
  {
   "cell_type": "code",
   "execution_count": 30,
   "outputs": [
    {
     "ename": "LostError",
     "evalue": "the stream has been lost.",
     "output_type": "error",
     "traceback": [
      "\u001B[1;31m---------------------------------------------------------------------------\u001B[0m",
      "\u001B[1;31mLostError\u001B[0m                                 Traceback (most recent call last)",
      "Input \u001B[1;32mIn [30]\u001B[0m, in \u001B[0;36m<cell line: 5>\u001B[1;34m()\u001B[0m\n\u001B[0;32m      1\u001B[0m \u001B[38;5;28;01mimport\u001B[39;00m \u001B[38;5;21;01mnumpy\u001B[39;00m \u001B[38;5;28;01mas\u001B[39;00m \u001B[38;5;21;01mnp\u001B[39;00m\n\u001B[0;32m      2\u001B[0m \u001B[38;5;28;01mwhile\u001B[39;00m \u001B[38;5;28;01mTrue\u001B[39;00m:\n\u001B[0;32m      3\u001B[0m     \u001B[38;5;66;03m# get a new sample (you can also omit the timestamp part if you're not\u001B[39;00m\n\u001B[0;32m      4\u001B[0m     \u001B[38;5;66;03m# interested in it)\u001B[39;00m\n\u001B[1;32m----> 5\u001B[0m     chunk, timestamps \u001B[38;5;241m=\u001B[39m \u001B[43minlet\u001B[49m\u001B[38;5;241;43m.\u001B[39;49m\u001B[43mpull_chunk\u001B[49m\u001B[43m(\u001B[49m\u001B[43m)\u001B[49m\n\u001B[0;32m      6\u001B[0m     \u001B[38;5;28;01mif\u001B[39;00m timestamps:\n\u001B[0;32m      7\u001B[0m         \u001B[38;5;66;03m# print(timestamps, chunk)\u001B[39;00m\n\u001B[0;32m      8\u001B[0m         \u001B[38;5;28mprint\u001B[39m(np\u001B[38;5;241m.\u001B[39marray(chunk)\u001B[38;5;241m.\u001B[39mmean(axis\u001B[38;5;241m=\u001B[39m\u001B[38;5;241m1\u001B[39m))\n",
      "File \u001B[1;32m~\\Anaconda3\\envs\\workspace_3_9\\lib\\site-packages\\pylsl\\pylsl.py:861\u001B[0m, in \u001B[0;36mStreamInlet.pull_chunk\u001B[1;34m(self, timeout, max_samples, dest_obj)\u001B[0m\n\u001B[0;32m    856\u001B[0m \u001B[38;5;66;03m# noinspection PyCallingNonCallable\u001B[39;00m\n\u001B[0;32m    857\u001B[0m num_elements \u001B[38;5;241m=\u001B[39m \u001B[38;5;28mself\u001B[39m\u001B[38;5;241m.\u001B[39mdo_pull_chunk(\u001B[38;5;28mself\u001B[39m\u001B[38;5;241m.\u001B[39mobj, byref(data_buff),\n\u001B[0;32m    858\u001B[0m                                   byref(ts_buff), c_size_t(max_values),\n\u001B[0;32m    859\u001B[0m                                   c_size_t(max_samples), c_double(timeout),\n\u001B[0;32m    860\u001B[0m                                   byref(errcode))\n\u001B[1;32m--> 861\u001B[0m \u001B[43mhandle_error\u001B[49m\u001B[43m(\u001B[49m\u001B[43merrcode\u001B[49m\u001B[43m)\u001B[49m\n\u001B[0;32m    862\u001B[0m \u001B[38;5;66;03m# return results (note: could offer a more efficient format in the\u001B[39;00m\n\u001B[0;32m    863\u001B[0m \u001B[38;5;66;03m# future, e.g., a numpy array)\u001B[39;00m\n\u001B[0;32m    864\u001B[0m num_samples \u001B[38;5;241m=\u001B[39m num_elements \u001B[38;5;241m/\u001B[39m num_channels\n",
      "File \u001B[1;32m~\\Anaconda3\\envs\\workspace_3_9\\lib\\site-packages\\pylsl\\pylsl.py:1154\u001B[0m, in \u001B[0;36mhandle_error\u001B[1;34m(errcode)\u001B[0m\n\u001B[0;32m   1152\u001B[0m     \u001B[38;5;28;01mraise\u001B[39;00m \u001B[38;5;167;01mTimeoutError\u001B[39;00m(\u001B[38;5;124m\"\u001B[39m\u001B[38;5;124mthe operation failed due to a timeout.\u001B[39m\u001B[38;5;124m\"\u001B[39m)\n\u001B[0;32m   1153\u001B[0m \u001B[38;5;28;01melif\u001B[39;00m errcode \u001B[38;5;241m==\u001B[39m \u001B[38;5;241m-\u001B[39m\u001B[38;5;241m2\u001B[39m:\n\u001B[1;32m-> 1154\u001B[0m     \u001B[38;5;28;01mraise\u001B[39;00m LostError(\u001B[38;5;124m\"\u001B[39m\u001B[38;5;124mthe stream has been lost.\u001B[39m\u001B[38;5;124m\"\u001B[39m)\n\u001B[0;32m   1155\u001B[0m \u001B[38;5;28;01melif\u001B[39;00m errcode \u001B[38;5;241m==\u001B[39m \u001B[38;5;241m-\u001B[39m\u001B[38;5;241m3\u001B[39m:\n\u001B[0;32m   1156\u001B[0m     \u001B[38;5;28;01mraise\u001B[39;00m InvalidArgumentError(\u001B[38;5;124m\"\u001B[39m\u001B[38;5;124man argument was incorrectly specified.\u001B[39m\u001B[38;5;124m\"\u001B[39m)\n",
      "\u001B[1;31mLostError\u001B[0m: the stream has been lost."
     ]
    }
   ],
   "source": [
    "import numpy as np\n",
    "while True:\n",
    "    # get a new sample (you can also omit the timestamp part if you're not\n",
    "    # interested in it)\n",
    "    chunk, timestamps = inlet.pull_chunk()\n",
    "    if timestamps:\n",
    "        # print(timestamps, chunk)\n",
    "        print(np.array(chunk).mean(axis=1))\n",
    "\n",
    "    sleep(1)"
   ],
   "metadata": {
    "collapsed": false
   }
  },
  {
   "cell_type": "code",
   "execution_count": 14,
   "outputs": [
    {
     "data": {
      "text/plain": "([-inf, 0.0], 48730.115671)"
     },
     "execution_count": 14,
     "metadata": {},
     "output_type": "execute_result"
    }
   ],
   "source": [
    "inlet.pull_sample()"
   ],
   "metadata": {
    "collapsed": false
   }
  },
  {
   "cell_type": "code",
   "execution_count": null,
   "outputs": [],
   "source": [],
   "metadata": {
    "collapsed": false
   }
  }
 ],
 "metadata": {
  "kernelspec": {
   "display_name": "Python 3",
   "language": "python",
   "name": "python3"
  },
  "language_info": {
   "codemirror_mode": {
    "name": "ipython",
    "version": 2
   },
   "file_extension": ".py",
   "mimetype": "text/x-python",
   "name": "python",
   "nbconvert_exporter": "python",
   "pygments_lexer": "ipython2",
   "version": "2.7.6"
  }
 },
 "nbformat": 4,
 "nbformat_minor": 0
}
