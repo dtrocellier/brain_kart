{
 "cells": [
  {
   "cell_type": "code",
   "execution_count": 7,
   "metadata": {
    "collapsed": true
   },
   "outputs": [
    {
     "name": "stdout",
     "output_type": "stream",
     "text": [
      "looking for an EEG stream...\n"
     ]
    }
   ],
   "source": [
    "from time import sleep\n",
    "import pylsl\n",
    "from pylsl import StreamInlet, resolve_stream\n",
    "import numpy as np\n",
    "import matplotlib.pyplot as plt\n",
    "\n",
    "# first resolve an EEG stream on the lab network\n",
    "print(\"looking for an EEG stream...\")\n",
    "streams = resolve_stream('type', 'EEG')\n",
    "\n",
    "# create a new inlet to read from the stream\n",
    "inlet = StreamInlet(streams[0])\n",
    "count=0\n",
    "arr=[]\n",
    "# for i in range(0,int(0.5*512)):\n",
    "#     # get a new sample (you can also omit the timestamp part if you're not\n",
    "#     # interested in it)\n",
    "#     sample, timestamp = inlet.pull_sample()\n",
    "#     # print(timestamp, sample,count)\n",
    "#     arr.append(sample)\n",
    "#     count=count+1\n",
    "# print('length', len(arr))\n",
    "# def channel(chnum):\n",
    "#     cha=[]\n",
    "#     for i in range(0,len(arr)):\n",
    "#         cha.append(arr[i][chnum])\n",
    "#     #print(len(cha))\n",
    "#     return cha\n",
    "# def singlechannelgraph(sf,chdata,chno):\n",
    "#     sf = 512\n",
    "#     rate=sf\n",
    "#     time = np.arange(256) / sf\n",
    "#\n",
    "#     # Plot the signal\n",
    "#     fig, ax = plt.subplots(1, 1, figsize=(12, 4))\n",
    "#     plt.plot(time, chdata, lw=1.5, color='k')\n",
    "#     plt.xlabel('Time (seconds)')\n",
    "#     plt.ylabel('Voltage')\n",
    "#     plt.xlim([time.min(), time.max()])\n",
    "#     plt.title('Channel %d EEG data'%(chno))\n",
    "# def singlechannelPSD(channeldata,sf):\n",
    "#\n",
    "#     from scipy import signal\n",
    "#\n",
    "#     # Define window length (0.5 seconds)\n",
    "#     win = 0.5 * sf\n",
    "#     freqs, psd = signal.welch(channeldata, sf, nperseg=win)\n",
    "#     p = (np.fft.rfft(channeldata))\n",
    "#\n",
    "#     f = np.linspace(0, 512/2, len(p))\n",
    "#     # print(freqs)\n",
    "#     #print(f)\n",
    "#     #plt.plot(f,p)\n",
    "#     # Plot the power spectrum\n",
    "#     #sns.set(font_scale=1.2, style='white')\n",
    "#     #    plt.figure(figsize=(8, 4))\n",
    "#     #    plt.plot(freqs, psd, color='k', lw=2)\n",
    "#     #    plt.xlabel('Frequency (Hz)')\n",
    "#     #    plt.ylabel('Power spectral density (V^2 / Hz)')\n",
    "#     #    plt.ylim([0, psd.max() * 1.1])\n",
    "#     #    plt.title(\"Welch's periodogram\")\n",
    "#     #    plt.xlim([0, freqs.max()])\n",
    "#     return freqs,psd,f,p\n",
    "# #sns.despine()\n",
    "# def Bandspecs_getidx_delta(lowb,highb,freqs,psd):\n",
    "#     low, high = lowb, highb\n",
    "#\n",
    "#     # Find intersecting values in frequency vector\n",
    "#     idx_delta = np.logical_and(freqs >= low, freqs <= high)\n",
    "#\n",
    "#     # Plot the power spectral density and fill the delta area\n",
    "#     plt.figure(figsize=(7, 4))\n",
    "#     plt.plot(freqs, psd, lw=2, color='k')\n",
    "#     plt.fill_between(freqs, psd, where=idx_delta, color='skyblue')\n",
    "#     plt.xlabel('Frequency (Hz)')\n",
    "#     plt.ylabel('Power spectral density (uV^2 / Hz)')\n",
    "#     plt.xlim([0, 40])\n",
    "#     plt.ylim([0, psd.max() * 1.1])\n",
    "#     plt.title(\"Welch's periodogram\")\n",
    "#     return idx_delta\n",
    "# #sns.despine()\n",
    "# from scipy.integrate import simps\n",
    "# # Frequency resolution\n",
    "#\n",
    "# def deltapower(idx_delta1,freqs,psd1,f,p):\n",
    "#     freq_res = freqs[1] - freqs[0]  # = 1 / 0.5 = 2\n",
    "#     #print(f)\n",
    "#     fr_res = f[1] - f[0]\n",
    "#     # Compute the absolute power by approximating the area under the curve\n",
    "#     delta_power = simps(p[idx_delta1], dx=fr_res)\n",
    "#     #print('Absolute delta power: %.3f uV^2' % delta_power)\n",
    "#     total_power = simps(p, dx=fr_res)\n",
    "#     delta_rel_power = delta_power / total_power\n",
    "#\n",
    "#     #print('Relative delta power: %.3f' % delta_rel_power)\n",
    "#     return delta_power\n",
    "# def relpower(idx_delta,freqs,psd,f,p):\n",
    "#     freq_res = freqs[1] - freqs[0]  # = 1 / 0.5 = 2\n",
    "#     fr_res = f[1] - f[0]\n",
    "#     # Compute the absolute power by approximating the area under the curve\n",
    "#     delta_power = simps(p[idx_delta], dx=fr_res)\n",
    "#     #print('Absolute delta power: %.3f uV^2' % delta_power)\n",
    "#     total_power = simps(p, dx=fr_res)\n",
    "#     delta_rel_power = delta_power / total_power\n",
    "#     #print('Relative delta power: %.3f' % delta_rel_power)\n",
    "#     return delta_rel_power\n",
    "# def _main(nc,sf):\n",
    "#     #nc=4\n",
    "#     #sf=512\n",
    "#     chan=[]\n",
    "#     for m in range(0,nc):\n",
    "#         chan.append(channel(m))\n",
    "#     for n in range(0,nc):\n",
    "#         singlechannelgraph(sf,chan[n],n)\n",
    "#\n",
    "#     freqs_all=[]\n",
    "#     psd_all=[]\n",
    "#     f_all=[]\n",
    "#     p_all=[]\n",
    "#     for o in range(0,nc):\n",
    "#         freqs,psd,f,p=singlechannelPSD(chan[o],sf)\n",
    "#         freqs_all.append(freqs)\n",
    "#         psd_all.append(psd)\n",
    "#         f_all.append(f)\n",
    "#         p_all.append(p)\n",
    "#     idx_delta=[]\n",
    "#     #for theta 4-7hz\n",
    "#     idx_delta.append(Bandspecs_getidx_delta(4,7,freqs_all[0],psd_all[0]))\n",
    "#     #for alpha 8-13hz\n",
    "#     idx_delta.append(Bandspecs_getidx_delta(8,13,freqs_all[1],psd_all[1]))\n",
    "#     #for beta 13-30hz\n",
    "#     idx_delta.append(Bandspecs_getidx_delta(13,30,freqs_all[2],psd_all[2]))\n",
    "#     abspower_sec=[]\n",
    "#     for p1 in range(0,nc):\n",
    "#         abspower_prim=[]\n",
    "#         for q in range(0,3):\n",
    "#             abspower_prim.append((deltapower(idx_delta[q],freqs_all[p1],psd_all[p1],f_all[p1],p_all[p1])).real)\n",
    "#         abspower_sec.append(abspower_prim)\n",
    "#     #print (len(abspower_sec),'x',int(len(abspower_prim)))\n",
    "#     relpower_sec=[]\n",
    "#     for p1 in range(0,nc):\n",
    "#         relpower_prim=[]\n",
    "#         for q in range(0,3):\n",
    "#             relpower_prim.append((relpower(idx_delta[q],freqs_all[p1],psd_all[p1],f_all[p1],p_all[p1])).real\n",
    "#                                  )\n",
    "#         #print('insideq',relpower_prim)\n",
    "#\n",
    "#         relpower_sec.append(relpower_prim)\n",
    "#     print(relpower_sec)\n",
    "#     #print('inside-----p')\n",
    "#     return relpower_sec\n",
    "#\n",
    "# nc,sf=input().split()\n",
    "# nc=int(nc)\n",
    "# sf=int(sf)\n",
    "# re_power=_main(nc,sf)\n",
    "# np_rev_power=np.array(re_power)#----#CHNLx3 Matrix\n",
    "# print('---Matrix---')\n",
    "# print(np_rev_power)\n",
    "# print(np_rev_power.shape)\n",
    "\n"
   ]
  },
  {
   "cell_type": "code",
   "execution_count": 8,
   "outputs": [
    {
     "name": "stdout",
     "output_type": "stream",
     "text": [
      "<pylsl.pylsl.StreamInlet object at 0x000001AB90347CA0>\n"
     ]
    }
   ],
   "source": [
    "print(inlet)"
   ],
   "metadata": {
    "collapsed": false
   }
  },
  {
   "cell_type": "code",
   "execution_count": 9,
   "outputs": [],
   "source": [
    "def send_speed(speed):\n",
    "    \"\"\"Send speed to Thymio\"\"\"\n",
    "    if speed > 0:\n",
    "        speed = 0\n",
    "    elif speed < 100:\n",
    "        speed = 100\n",
    "    else:\n",
    "        speed = -speed\n",
    "    print(speed)"
   ],
   "metadata": {
    "collapsed": false
   }
  },
  {
   "cell_type": "code",
   "execution_count": 10,
   "outputs": [
    {
     "name": "stdout",
     "output_type": "stream",
     "text": [
      "100\n",
      "100\n",
      "100\n",
      "100\n",
      "100\n",
      "100\n",
      "100\n",
      "100\n",
      "100\n",
      "100\n",
      "100\n",
      "100\n",
      "100\n",
      "100\n",
      "100\n",
      "100\n",
      "100\n",
      "100\n",
      "100\n",
      "100\n",
      "100\n",
      "100\n",
      "100\n",
      "100\n",
      "100\n",
      "100\n",
      "100\n",
      "100\n",
      "100\n",
      "100\n",
      "100\n",
      "100\n",
      "100\n",
      "100\n",
      "100\n",
      "100\n",
      "100\n",
      "100\n",
      "100\n",
      "100\n",
      "100\n",
      "100\n",
      "100\n",
      "100\n",
      "100\n",
      "100\n",
      "100\n",
      "100\n",
      "100\n",
      "100\n",
      "100\n",
      "100\n",
      "100\n",
      "100\n",
      "100\n",
      "100\n",
      "100\n",
      "100\n",
      "100\n",
      "100\n",
      "100\n",
      "100\n",
      "100\n",
      "100\n",
      "100\n",
      "100\n",
      "100\n",
      "100\n",
      "100\n",
      "100\n",
      "100\n",
      "100\n",
      "100\n",
      "100\n",
      "100\n",
      "100\n",
      "100\n",
      "100\n",
      "100\n",
      "100\n",
      "100\n",
      "100\n",
      "100\n",
      "100\n",
      "100\n",
      "100\n",
      "100\n",
      "100\n",
      "100\n",
      "100\n",
      "100\n",
      "100\n",
      "100\n",
      "100\n",
      "100\n",
      "100\n",
      "100\n",
      "100\n",
      "100\n"
     ]
    },
    {
     "ename": "KeyboardInterrupt",
     "evalue": "",
     "output_type": "error",
     "traceback": [
      "\u001B[1;31m---------------------------------------------------------------------------\u001B[0m",
      "\u001B[1;31mKeyboardInterrupt\u001B[0m                         Traceback (most recent call last)",
      "Input \u001B[1;32mIn [10]\u001B[0m, in \u001B[0;36m<cell line: 6>\u001B[1;34m()\u001B[0m\n\u001B[0;32m     10\u001B[0m     \u001B[38;5;66;03m# print(\"run\")\u001B[39;00m\n\u001B[0;32m     11\u001B[0m \u001B[38;5;28;01melse\u001B[39;00m :\n\u001B[0;32m     12\u001B[0m     send_speed(\u001B[38;5;241m0\u001B[39m)\n\u001B[1;32m---> 13\u001B[0m \u001B[43msleep\u001B[49m\u001B[43m(\u001B[49m\u001B[38;5;241;43m0.1\u001B[39;49m\u001B[43m)\u001B[49m\n",
      "\u001B[1;31mKeyboardInterrupt\u001B[0m: "
     ]
    }
   ],
   "source": [
    "try : inlet = StreamInlet(streams[0])\n",
    "except : print('No stream found')\n",
    "while True:\n",
    "    # get a new sample (you can also omit the timestamp part if you're not\n",
    "    # interested in it)\n",
    "    sample, timestamp = inlet.pull_sample()\n",
    "    # print(timestamp, sample,count)\n",
    "    if sample[0] < 0 :\n",
    "        send_speed(sample[0])\n",
    "        # print(\"run\")\n",
    "    else :\n",
    "        send_speed(0)\n",
    "    sleep(0.1)\n",
    "        # print(\"stop\")\n",
    "    # arr.append(sample)\n"
   ],
   "metadata": {
    "collapsed": false
   }
  },
  {
   "cell_type": "code",
   "execution_count": 17,
   "outputs": [
    {
     "name": "stdout",
     "output_type": "stream",
     "text": [
      "100\n",
      "100\n",
      "100\n",
      "100\n",
      "100\n"
     ]
    },
    {
     "ename": "KeyboardInterrupt",
     "evalue": "",
     "output_type": "error",
     "traceback": [
      "\u001B[1;31m---------------------------------------------------------------------------\u001B[0m",
      "\u001B[1;31mKeyboardInterrupt\u001B[0m                         Traceback (most recent call last)",
      "Input \u001B[1;32mIn [17]\u001B[0m, in \u001B[0;36m<cell line: 5>\u001B[1;34m()\u001B[0m\n\u001B[0;32m     13\u001B[0m         \u001B[38;5;66;03m# print(\"run\")\u001B[39;00m\n\u001B[0;32m     14\u001B[0m     \u001B[38;5;28;01melse\u001B[39;00m :\n\u001B[0;32m     15\u001B[0m         send_speed(\u001B[38;5;241m0\u001B[39m)\n\u001B[1;32m---> 17\u001B[0m \u001B[43msleep\u001B[49m\u001B[43m(\u001B[49m\u001B[38;5;241;43m0.5\u001B[39;49m\u001B[43m)\u001B[49m\n",
      "\u001B[1;31mKeyboardInterrupt\u001B[0m: "
     ]
    }
   ],
   "source": [
    "import numpy as np\n",
    "while True:\n",
    "    # get a new sample (you can also omit the timestamp part if you're not\n",
    "    # interested in it)\n",
    "    chunk, timestamps = inlet.pull_chunk()\n",
    "    if timestamps:\n",
    "        # print(timestamps, chunk)\n",
    "        # print(np.array(chunk).mean(axis=0)[0])\n",
    "        sample =np.array(chunk).mean(axis=0)[0]\n",
    "        # print(timestamp, sample,count)\n",
    "        if sample< 0 :\n",
    "            send_speed(sample)\n",
    "            # print(\"run\")\n",
    "        else :\n",
    "            send_speed(0)\n",
    "\n",
    "    sleep(0.5)"
   ],
   "metadata": {
    "collapsed": false
   }
  },
  {
   "cell_type": "code",
   "execution_count": null,
   "outputs": [],
   "source": [
    "inlet.pull_sample()"
   ],
   "metadata": {
    "collapsed": false
   }
  },
  {
   "cell_type": "code",
   "execution_count": 24,
   "outputs": [
    {
     "name": "stderr",
     "output_type": "stream",
     "text": [
      "C:\\Users\\dtrocell\\AppData\\Local\\Temp\\ipykernel_10396\\156761244.py:1: RuntimeWarning: invalid value encountered in log\n",
      "  signal = np.array([[np.log(-1.),1.,np.log(0)],[np.log(-1.),1.,np.log(0)]])\n",
      "C:\\Users\\dtrocell\\AppData\\Local\\Temp\\ipykernel_10396\\156761244.py:1: RuntimeWarning: divide by zero encountered in log\n",
      "  signal = np.array([[np.log(-1.),1.,np.log(0)],[np.log(-1.),1.,np.log(0)]])\n"
     ]
    },
    {
     "data": {
      "text/plain": "array([[ nan,   1., -inf],\n       [ nan,   1., -inf]])"
     },
     "execution_count": 24,
     "metadata": {},
     "output_type": "execute_result"
    }
   ],
   "source": [
    "signal = np.array([[np.log(-1.),1.,np.log(0)],[np.log(-1.),1.,np.log(0)]])\n",
    "signal[~np.isnan(signal)]"
   ],
   "metadata": {
    "collapsed": false
   }
  },
  {
   "cell_type": "code",
   "execution_count": 25,
   "outputs": [
    {
     "data": {
      "text/plain": "array([[False,  True,  True],\n       [False,  True,  True]])"
     },
     "execution_count": 25,
     "metadata": {},
     "output_type": "execute_result"
    }
   ],
   "source": [
    "~np.isnan(signal)"
   ],
   "metadata": {
    "collapsed": false
   }
  },
  {
   "cell_type": "code",
   "execution_count": null,
   "outputs": [],
   "source": [],
   "metadata": {
    "collapsed": false
   }
  }
 ],
 "metadata": {
  "kernelspec": {
   "display_name": "Python 3",
   "language": "python",
   "name": "python3"
  },
  "language_info": {
   "codemirror_mode": {
    "name": "ipython",
    "version": 2
   },
   "file_extension": ".py",
   "mimetype": "text/x-python",
   "name": "python",
   "nbconvert_exporter": "python",
   "pygments_lexer": "ipython2",
   "version": "2.7.6"
  }
 },
 "nbformat": 4,
 "nbformat_minor": 0
}
