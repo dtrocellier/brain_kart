{
 "cells": [
  {
   "cell_type": "code",
   "execution_count": 1,
   "metadata": {},
   "outputs": [],
   "source": [
    "import tdmclient.notebook\n",
    "from pylsl import StreamInlet, resolve_stream\n"
   ]
  },
  {
   "cell_type": "code",
   "execution_count": 2,
   "metadata": {},
   "outputs": [],
   "source": [
    "def connectStream():\n",
    "        # first resolve an EEG stream on the lab network\n",
    "        print(\"looking for an EEG stream...\")\n",
    "        streams = resolve_stream('type', 'EEG')\n",
    "\n",
    "\n",
    "        # create a new inlet to read from the stream\n",
    "        inlet = StreamInlet(streams[0])\n",
    "\n",
    "        print('connection found')\n",
    "        return inlet"
   ]
  },
  {
   "cell_type": "code",
   "execution_count": 3,
   "metadata": {},
   "outputs": [
    {
     "name": "stdout",
     "output_type": "stream",
     "text": [
      "In waiting for Thymio connection...\n",
      "Connection found\n"
     ]
    }
   ],
   "source": [
    "print(\"In waiting for Thymio connection...\")\n",
    "try:\n",
    "    await tdmclient.notebook.start()\n",
    "    print(\"Connection found\")\n",
    "except Exception as e:\n",
    "    print(f\"Connection failed : {e}\")"
   ]
  },
  {
   "cell_type": "code",
   "execution_count": 9,
   "metadata": {},
   "outputs": [
    {
     "name": "stdout",
     "output_type": "stream",
     "text": [
      "No stream found\n"
     ]
    }
   ],
   "source": [
    "try : inlet = connectStream()\n",
    "except : print('No stream found')"
   ]
  },
  {
   "cell_type": "markdown",
   "metadata": {},
   "source": [
    "Code pour suivre la ligne "
   ]
  },
  {
   "cell_type": "code",
   "execution_count": 4,
   "metadata": {},
   "outputs": [],
   "source": [
    "%%run_python\n",
    "\n",
    "\n",
    "#onevent startup\n",
    "maxSteer = 20\n",
    "speed = 0\n",
    "steerL = 0\n",
    "tmp = 0\n",
    "\n",
    "rainbow = [\n",
    "    32, 0, 0,      # Rouge\n",
    "    32, 16, 0,     # Orange\n",
    "    32, 32, 0,     # Jaune\n",
    "    16, 32, 0,     # Vert clair\n",
    "    0, 32, 0,      # Vert\n",
    "    0, 32, 16,     # Turquoise\n",
    "    0, 32, 32,     # Cyan\n",
    "    0, 16, 32,     # Bleu clair\n",
    "    0, 0, 32       # Bleu\n",
    "]\n",
    "colorIndex = 0\n",
    "currentSound = -1\n",
    "\n",
    "# Event called every timer_period[0] milliseconds\n",
    "@onevent\n",
    "def timer0():\n",
    "    # Cycles color using rainbow color array (1 dimension)\n",
    "    nf_leds_top(rainbow[colorIndex], rainbow[colorIndex + 1], rainbow[colorIndex + 2])\n",
    "    colorIndex = (colorIndex + 3) % len(rainbow)\n",
    "\n",
    "def updateColor(s):\n",
    "    global timer_period, currentSound\n",
    "    # Depends on current speed of the robot\n",
    "    if s == 0:\n",
    "        #Pas de couleur\n",
    "        nf_sound_play(-1)\n",
    "        currentSound = -1\n",
    "        nf_leds_top(0,0,0)\n",
    "        timer_period[0] = 0\n",
    "    elif s < 100:\n",
    "        #Couleur Blue\n",
    "        nf_sound_play(-1)\n",
    "        currentSound = -1\n",
    "        timer_period[0] = 0\n",
    "        nf_leds_top(0,0,32)\n",
    "    elif s >= 100 and s < 200:\n",
    "        # Couleur Vert\n",
    "        nf_sound_play(-1)\n",
    "        currentSound = -1\n",
    "        timer_period[0] = 0\n",
    "        nf_leds_top(0,32,0)\n",
    "    elif s >= 200 and s < 300:\n",
    "        # Couleur Orange\n",
    "        nf_sound_play(-1)\n",
    "        currentSound = -1\n",
    "        timer_period[0] = 0\n",
    "        nf_leds_top(32,8,0)\n",
    "    elif s >= 300 and s < 350:\n",
    "        # Couleur Rouge\n",
    "        #nf_sound_play(-1)\n",
    "        currentSound = -1\n",
    "        timer_period[0] = 0\n",
    "        nf_leds_top(32,0,0)\n",
    "    elif s >= 350 :\n",
    "        # Couleur Arc en Ciel\n",
    "        timer_period[0] = 100\n",
    "        #if currentSound != 7:\n",
    "            #nf_sound_play(7)\n",
    "            #currentSound = 7\n",
    "        nf_leds_top(32,32,32)\n",
    "\n",
    "# Event raised when a playing sound ends\n",
    "@onevent\n",
    "def sound_finished():\n",
    "    global currentSound\n",
    "    nf_sound_play(currentSound)\n",
    "\n",
    "# Raised when a new speed is read from the EEG stream\n",
    "@onevent\n",
    "def receivedSpeed(s):\n",
    "    global speed\n",
    "    updateColor(s)\n",
    "    speed = s\n",
    "\n",
    "# Raised when the proximity sensors are read\n",
    "# Frequency : 100Hz\n",
    "@onevent\n",
    "def prox():\n",
    "    global speed, motor_left_target, motor_right_target, maxSteer, steerL, tmp\n",
    "\n",
    "    # If an obstacle is detected, stop the robot\n",
    "    if(prox_horizontal[0] > 500 or prox_horizontal[1] > 500 or prox_horizontal[2] > 500 or prox_horizontal[3] > 500):\n",
    "        speed = 0\n",
    "        motor_left_target = 0\n",
    "        motor_right_target = 0\n",
    "        \n",
    "        return\n",
    "    # Read both bottom sensors\n",
    "    right = prox_ground_delta[1]\n",
    "    left = prox_ground_delta[0]\n",
    "    \n",
    "    # Define speed correction to apply to motors\n",
    "    tmp = maxSteer * left - maxSteer * right\n",
    "    steerL = tmp // 50\n",
    "\n",
    "    # Set motor speed and correction\n",
    "    motor_left_target = speed + steerL\n",
    "    motor_right_target = speed - steerL\n",
    "\n"
   ]
  },
  {
   "cell_type": "code",
   "execution_count": 5,
   "metadata": {},
   "outputs": [
    {
     "ename": "KeyboardInterrupt",
     "evalue": "",
     "output_type": "error",
     "traceback": [
      "\u001b[1;31m---------------------------------------------------------------------------\u001b[0m",
      "\u001b[1;31mKeyboardInterrupt\u001b[0m                         Traceback (most recent call last)",
      "Cell \u001b[1;32mIn[5], line 19\u001b[0m\n\u001b[0;32m      4\u001b[0m \u001b[38;5;250m\u001b[39m\u001b[38;5;124;03m\"\"\"sample, timestamp = inlet.pull_sample()\u001b[39;00m\n\u001b[0;32m      5\u001b[0m \u001b[38;5;124;03mif timestamp:\u001b[39;00m\n\u001b[0;32m      6\u001b[0m \u001b[38;5;124;03m    alpha = sample[0]\u001b[39;00m\n\u001b[1;32m   (...)\u001b[0m\n\u001b[0;32m     15\u001b[0m \u001b[38;5;124;03mprint(f'Alpha : {alpha}')\u001b[39;00m\n\u001b[0;32m     16\u001b[0m \u001b[38;5;124;03mprint(f'Speed : {speed}\\n')\"\"\"\u001b[39;00m\n\u001b[0;32m     18\u001b[0m \u001b[38;5;66;03m# Raise \"receivedSpeed\" event in robot\u001b[39;00m\n\u001b[1;32m---> 19\u001b[0m \u001b[43msend_event\u001b[49m\u001b[43m(\u001b[49m\u001b[38;5;124;43m'\u001b[39;49m\u001b[38;5;124;43mreceivedSpeed\u001b[39;49m\u001b[38;5;124;43m'\u001b[39;49m\u001b[43m,\u001b[49m\u001b[43m \u001b[49m\u001b[38;5;241;43m200\u001b[39;49m\u001b[43m)\u001b[49m\n",
      "File \u001b[1;32mc:\\Python312\\Lib\\site-packages\\tdmclient\\repl.py:233\u001b[0m, in \u001b[0;36mTDMConsole.__init__.<locals>.send_event\u001b[1;34m(event_name, *args, **kwargs)\u001b[0m\n\u001b[0;32m    226\u001b[0m data \u001b[38;5;241m=\u001b[39m [\n\u001b[0;32m    227\u001b[0m     item\n\u001b[0;32m    228\u001b[0m     \u001b[38;5;28;01mfor\u001b[39;00m arg \u001b[38;5;129;01min\u001b[39;00m args\n\u001b[0;32m    229\u001b[0m     \u001b[38;5;28;01mfor\u001b[39;00m item \u001b[38;5;129;01min\u001b[39;00m (arg \u001b[38;5;28;01mif\u001b[39;00m \u001b[38;5;28misinstance\u001b[39m(arg, \u001b[38;5;28mlist\u001b[39m) \u001b[38;5;28;01melse\u001b[39;00m [arg])\n\u001b[0;32m    230\u001b[0m ]\n\u001b[0;32m    232\u001b[0m node \u001b[38;5;241m=\u001b[39m \u001b[38;5;28mself\u001b[39m\u001b[38;5;241m.\u001b[39mfind_robot(\u001b[38;5;241m*\u001b[39m\u001b[38;5;241m*\u001b[39mkwargs) \u001b[38;5;129;01mor\u001b[39;00m \u001b[38;5;28mself\u001b[39m\u001b[38;5;241m.\u001b[39mnode\n\u001b[1;32m--> 233\u001b[0m \u001b[43mnode\u001b[49m\u001b[38;5;241;43m.\u001b[39;49m\u001b[43msend_send_events\u001b[49m\u001b[43m(\u001b[49m\u001b[43m{\u001b[49m\u001b[43mevent_name\u001b[49m\u001b[43m:\u001b[49m\u001b[43m \u001b[49m\u001b[43mdata\u001b[49m\u001b[43m}\u001b[49m\u001b[43m)\u001b[49m\n",
      "File \u001b[1;32mc:\\Python312\\Lib\\site-packages\\tdmclient\\clientnode.py:66\u001b[0m, in \u001b[0;36mClientNode.send_send_events\u001b[1;34m(self, event_dict, **kwargs)\u001b[0m\n\u001b[0;32m     64\u001b[0m \u001b[38;5;28;01mif\u001b[39;00m \u001b[38;5;28mself\u001b[39m\u001b[38;5;241m.\u001b[39mthymio\u001b[38;5;241m.\u001b[39mdebug \u001b[38;5;241m>\u001b[39m\u001b[38;5;241m=\u001b[39m \u001b[38;5;241m1\u001b[39m:\n\u001b[0;32m     65\u001b[0m     \u001b[38;5;28mprint\u001b[39m(\u001b[38;5;124mf\u001b[39m\u001b[38;5;124m\"\u001b[39m\u001b[38;5;124msend events to \u001b[39m\u001b[38;5;132;01m{\u001b[39;00m\u001b[38;5;28mself\u001b[39m\u001b[38;5;241m.\u001b[39mid_str\u001b[38;5;132;01m}\u001b[39;00m\u001b[38;5;124m \u001b[39m\u001b[38;5;132;01m{\u001b[39;00m\u001b[38;5;124m'\u001b[39m\u001b[38;5;124m, \u001b[39m\u001b[38;5;124m'\u001b[39m\u001b[38;5;241m.\u001b[39mjoin([\u001b[38;5;124mf\u001b[39m\u001b[38;5;124m'\u001b[39m\u001b[38;5;132;01m{\u001b[39;00mname\u001b[38;5;132;01m}\u001b[39;00m\u001b[38;5;124m=\u001b[39m\u001b[38;5;132;01m{\u001b[39;00mevent_dict[name]\u001b[38;5;132;01m}\u001b[39;00m\u001b[38;5;124m'\u001b[39m\u001b[38;5;250m \u001b[39m\u001b[38;5;28;01mfor\u001b[39;00m\u001b[38;5;250m \u001b[39mname\u001b[38;5;250m \u001b[39m\u001b[38;5;129;01min\u001b[39;00m\u001b[38;5;250m \u001b[39mevent_dict])\u001b[38;5;132;01m}\u001b[39;00m\u001b[38;5;124m\"\u001b[39m)\n\u001b[1;32m---> 66\u001b[0m \u001b[38;5;28;43mself\u001b[39;49m\u001b[38;5;241;43m.\u001b[39;49m\u001b[43mthymio\u001b[49m\u001b[38;5;241;43m.\u001b[39;49m\u001b[43msend_packet\u001b[49m\u001b[43m(\u001b[49m\u001b[38;5;28;43mself\u001b[39;49m\u001b[38;5;241;43m.\u001b[39;49m\u001b[43mcreate_msg_send_events\u001b[49m\u001b[43m(\u001b[49m\u001b[43mevent_dict\u001b[49m\u001b[43m,\u001b[49m\u001b[43m \u001b[49m\u001b[38;5;241;43m*\u001b[39;49m\u001b[38;5;241;43m*\u001b[39;49m\u001b[43mkwargs\u001b[49m\u001b[43m)\u001b[49m\u001b[43m)\u001b[49m\n",
      "File \u001b[1;32mc:\\Python312\\Lib\\site-packages\\tdmclient\\client.py:142\u001b[0m, in \u001b[0;36mClient.send_packet\u001b[1;34m(self, b, ignore_disconnected_error)\u001b[0m\n\u001b[0;32m    139\u001b[0m         \u001b[38;5;28;01mraise\u001b[39;00m DisconnectedError(\u001b[38;5;124m\"\u001b[39m\u001b[38;5;124mTDM disconnected\u001b[39m\u001b[38;5;124m\"\u001b[39m)\n\u001b[0;32m    141\u001b[0m \u001b[38;5;28;01mtry\u001b[39;00m:\n\u001b[1;32m--> 142\u001b[0m     \u001b[38;5;28;43mself\u001b[39;49m\u001b[38;5;241;43m.\u001b[39;49m\u001b[43mtdm\u001b[49m\u001b[38;5;241;43m.\u001b[39;49m\u001b[43msend_packet\u001b[49m\u001b[43m(\u001b[49m\u001b[43mb\u001b[49m\u001b[43m)\u001b[49m\n\u001b[0;32m    143\u001b[0m \u001b[38;5;28;01mexcept\u001b[39;00m \u001b[38;5;167;01mSyntaxError\u001b[39;00m \u001b[38;5;28;01mas\u001b[39;00m error:\n\u001b[0;32m    144\u001b[0m     \u001b[38;5;28;01mif\u001b[39;00m \u001b[38;5;129;01mnot\u001b[39;00m ignore_disconnected_error:\n",
      "File \u001b[1;32mc:\\Python312\\Lib\\site-packages\\tdmclient\\tcp.py:164\u001b[0m, in \u001b[0;36mTDMConnection.send_packet\u001b[1;34m(self, packet)\u001b[0m\n\u001b[0;32m    162\u001b[0m     n \u001b[38;5;241m=\u001b[39m \u001b[38;5;28mlen\u001b[39m(packet)\n\u001b[0;32m    163\u001b[0m     blen \u001b[38;5;241m=\u001b[39m \u001b[38;5;28mbytes\u001b[39m([(n \u001b[38;5;241m>>\u001b[39m \u001b[38;5;241m8\u001b[39m \u001b[38;5;241m*\u001b[39m i) \u001b[38;5;241m&\u001b[39m \u001b[38;5;241m0xff\u001b[39m \u001b[38;5;28;01mfor\u001b[39;00m i \u001b[38;5;129;01min\u001b[39;00m \u001b[38;5;28mrange\u001b[39m(\u001b[38;5;241m4\u001b[39m)])\n\u001b[1;32m--> 164\u001b[0m     \u001b[38;5;28;43mself\u001b[39;49m\u001b[38;5;241;43m.\u001b[39;49m\u001b[43mio\u001b[49m\u001b[38;5;241;43m.\u001b[39;49m\u001b[43mwrite\u001b[49m\u001b[43m(\u001b[49m\u001b[43mblen\u001b[49m\u001b[43m \u001b[49m\u001b[38;5;241;43m+\u001b[39;49m\u001b[43m \u001b[49m\u001b[43mpacket\u001b[49m\u001b[43m)\u001b[49m\n\u001b[0;32m    165\u001b[0m \u001b[38;5;28;01mexcept\u001b[39;00m \u001b[38;5;167;01mException\u001b[39;00m \u001b[38;5;28;01mas\u001b[39;00m error:\n\u001b[0;32m    166\u001b[0m     \u001b[38;5;28mself\u001b[39m\u001b[38;5;241m.\u001b[39mcomm_error \u001b[38;5;241m=\u001b[39m error\n",
      "File \u001b[1;32mc:\\Python312\\Lib\\site-packages\\tdmclient\\tcp.py:102\u001b[0m, in \u001b[0;36mTDMConnection.__init__.<locals>.TCPClientIO.write\u001b[1;34m(self, b)\u001b[0m\n\u001b[0;32m    101\u001b[0m \u001b[38;5;28;01mdef\u001b[39;00m \u001b[38;5;21mwrite\u001b[39m(\u001b[38;5;28mself\u001b[39m, b):\n\u001b[1;32m--> 102\u001b[0m     \u001b[38;5;28;43mself\u001b[39;49m\u001b[38;5;241;43m.\u001b[39;49m\u001b[43msocket\u001b[49m\u001b[38;5;241;43m.\u001b[39;49m\u001b[43msendall\u001b[49m\u001b[43m(\u001b[49m\u001b[43mb\u001b[49m\u001b[43m)\u001b[49m\n",
      "\u001b[1;31mKeyboardInterrupt\u001b[0m: "
     ]
    }
   ],
   "source": [
    "while True:\n",
    "    # get a new sample (you can also omit the timestamp part if you're not\n",
    "    # interested in it)\n",
    "    \"\"\"sample, timestamp = inlet.pull_sample()\n",
    "    if timestamp:\n",
    "        alpha = sample[0]\n",
    "        # alpha = valeur actuelle - baseline\n",
    "        # donc si alpha < 0 : plus concentré = on augmente la vitesse\n",
    "        # sinon on réduit la vitesse\n",
    "        if alpha > 0:\n",
    "            speed = max(0,speed - alpha)\n",
    "        else:\n",
    "            speed = min(speed - alpha,400)\n",
    "\n",
    "    print(f'Alpha : {alpha}')\n",
    "    print(f'Speed : {speed}\\n')\"\"\"\n",
    "    \n",
    "    # Raise \"receivedSpeed\" event in robot\n",
    "    send_event('receivedSpeed', 200)"
   ]
  },
  {
   "cell_type": "code",
   "execution_count": null,
   "metadata": {},
   "outputs": [],
   "source": []
  }
 ],
 "metadata": {
  "kernelspec": {
   "display_name": "Python 3",
   "language": "python",
   "name": "python3"
  },
  "language_info": {
   "codemirror_mode": {
    "name": "ipython",
    "version": 3
   },
   "file_extension": ".py",
   "mimetype": "text/x-python",
   "name": "python",
   "nbconvert_exporter": "python",
   "pygments_lexer": "ipython3",
   "version": "3.12.0"
  }
 },
 "nbformat": 4,
 "nbformat_minor": 2
}
