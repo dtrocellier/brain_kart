{
 "cells": [
  {
   "cell_type": "code",
   "outputs": [],
   "source": [],
   "metadata": {
    "collapsed": false,
    "ExecuteTime": {
     "end_time": "2025-03-08T21:52:36.800979100Z",
     "start_time": "2025-03-08T21:52:36.784979Z"
    }
   },
   "execution_count": null
  },
  {
   "cell_type": "code",
   "execution_count": 1,
   "metadata": {
    "ExecuteTime": {
     "end_time": "2025-03-09T11:14:00.535901700Z",
     "start_time": "2025-03-09T11:14:00.501233700Z"
    }
   },
   "outputs": [],
   "source": [
    "import tdmclient.notebook\n",
    "from pylsl import StreamInlet, resolve_stream\n",
    "    "
   ]
  },
  {
   "cell_type": "code",
   "execution_count": 2,
   "metadata": {
    "ExecuteTime": {
     "end_time": "2025-03-09T11:14:00.548601500Z",
     "start_time": "2025-03-09T11:14:00.536923300Z"
    }
   },
   "outputs": [],
   "source": [
    "def connectStream():\n",
    "        # first resolve an EEG stream on the lab network\n",
    "        print(\"looking for an EEG stream...\")\n",
    "        streams = resolve_stream('type', 'EEG')\n",
    "\n",
    "\n",
    "        # create a new inlet to read from the stream\n",
    "        inlet = StreamInlet(streams[0])\n",
    "\n",
    "        print('connection found')\n",
    "        return inlet"
   ]
  },
  {
   "cell_type": "code",
   "outputs": [
    {
     "name": "stdout",
     "output_type": "stream",
     "text": [
      "In waiting for Thymio connection...\n",
      "Connection found\n"
     ]
    }
   ],
   "source": [
    "print(\"In waiting for Thymio connection...\")\n",
    "try:\n",
    "    await tdmclient.notebook.start()\n",
    "    print(\"Connection found\")\n",
    "except Exception as e:\n",
    "    print(f\"Connection failed : {e}\")"
   ],
   "metadata": {
    "ExecuteTime": {
     "end_time": "2025-03-09T11:14:21.108544500Z",
     "start_time": "2025-03-09T11:14:20.655585900Z"
    }
   },
   "execution_count": 3
  },
  {
   "cell_type": "code",
   "outputs": [],
   "source": [
    "# version sans EEG \n",
    "speed = 300\n",
    "while True:\n",
    "    # get a new sample (you can also omit the timestamp part if you're not\n",
    "    # interested in it)\n",
    "    try :\n",
    "        \n",
    "        if True:\n",
    "            alpha = 0\n",
    "            # alpha = valeur actuelle - baseline\n",
    "            # donc £si alpha < 0 : plus concentré = on augmente la vitesse\n",
    "            # sinon on réduit la vitesse\n",
    "            if alpha > 0:\n",
    "                speed = max(0,speed - alpha)\n",
    "            else:\n",
    "                speed = min(speed - alpha,400)\n",
    "\n",
    "\n",
    "    # except :\n",
    "    #     print('Connection lost')\n",
    "    #     speed = 0\n",
    "    #     break\n",
    "    # except KeyboardInterrupt:\n",
    "    #     print('Connection lost')\n",
    "    #     speed = 0\n",
    "    #     break\n",
    "    except Exception as e:\n",
    "        print(f'Error : {e}')\n",
    "        speed = 0\n",
    "        break\n",
    "\n",
    "    # print(f'Alpha : {alpha}')\n",
    "    # print(f'Speed : {speed}\\n')\n",
    "    send_event('receivedSpeed', int(speed))\n",
    "\n",
    "    # Raise \"receivedSpeed\" event in robot\n",
    "    # send_event('receivedSpeed', 200)"
   ],
   "metadata": {
    "collapsed": false,
    "ExecuteTime": {
     "start_time": "2025-03-08T14:55:03.604018800Z"
    }
   },
   "execution_count": 0
  },
  {
   "cell_type": "code",
   "outputs": [],
   "source": [
    "# try : inlet = connectStream()\n",
    "# except : print('No stream found')"
   ],
   "metadata": {
    "ExecuteTime": {
     "end_time": "2025-03-08T14:53:43.327783300Z",
     "start_time": "2025-03-08T14:53:43.326738500Z"
    }
   },
   "execution_count": 12
  },
  {
   "cell_type": "code",
   "outputs": [],
   "source": [],
   "metadata": {
    "collapsed": false,
    "ExecuteTime": {
     "end_time": "2025-03-08T14:53:43.604149100Z",
     "start_time": "2025-03-08T14:53:43.593664100Z"
    }
   },
   "execution_count": 12
  },
  {
   "cell_type": "markdown",
   "source": [
    "Code pour suivre la ligne "
   ],
   "metadata": {}
  },
  {
   "cell_type": "code",
   "outputs": [
    {
     "ename": "KeyError",
     "evalue": "'error_msg'",
     "output_type": "error",
     "traceback": [
      "\u001B[1;31m---------------------------------------------------------------------------\u001B[0m",
      "\u001B[1;31mKeyError\u001B[0m                                  Traceback (most recent call last)",
      "Input \u001B[1;32mIn [17]\u001B[0m, in \u001B[0;36m<cell line: 1>\u001B[1;34m()\u001B[0m\n\u001B[1;32m----> 1\u001B[0m \u001B[43mget_ipython\u001B[49m\u001B[43m(\u001B[49m\u001B[43m)\u001B[49m\u001B[38;5;241;43m.\u001B[39;49m\u001B[43mrun_cell_magic\u001B[49m\u001B[43m(\u001B[49m\u001B[38;5;124;43m'\u001B[39;49m\u001B[38;5;124;43mrun_python\u001B[39;49m\u001B[38;5;124;43m'\u001B[39;49m\u001B[43m,\u001B[49m\u001B[43m \u001B[49m\u001B[38;5;124;43m'\u001B[39;49m\u001B[38;5;124;43m'\u001B[39;49m\u001B[43m,\u001B[49m\u001B[43m \u001B[49m\u001B[38;5;124;43m'\u001B[39;49m\u001B[38;5;130;43;01m\\n\u001B[39;49;00m\u001B[38;5;130;43;01m\\n\u001B[39;49;00m\u001B[38;5;124;43m#onevent startup\u001B[39;49m\u001B[38;5;130;43;01m\\n\u001B[39;49;00m\u001B[38;5;124;43mmaxSteer = 20\u001B[39;49m\u001B[38;5;130;43;01m\\n\u001B[39;49;00m\u001B[38;5;124;43mspeed = 0\u001B[39;49m\u001B[38;5;130;43;01m\\n\u001B[39;49;00m\u001B[38;5;124;43msteerL = 0\u001B[39;49m\u001B[38;5;130;43;01m\\n\u001B[39;49;00m\u001B[38;5;124;43mtmp = 0\u001B[39;49m\u001B[38;5;130;43;01m\\n\u001B[39;49;00m\u001B[38;5;130;43;01m\\n\u001B[39;49;00m\u001B[38;5;124;43mrainbow = [\u001B[39;49m\u001B[38;5;130;43;01m\\n\u001B[39;49;00m\u001B[38;5;124;43m    32, 0, 0,      # Rouge\u001B[39;49m\u001B[38;5;130;43;01m\\n\u001B[39;49;00m\u001B[38;5;124;43m    32, 16, 0,     # Orange\u001B[39;49m\u001B[38;5;130;43;01m\\n\u001B[39;49;00m\u001B[38;5;124;43m    32, 32, 0,     # Jaune\u001B[39;49m\u001B[38;5;130;43;01m\\n\u001B[39;49;00m\u001B[38;5;124;43m    16, 32, 0,     # Vert clair\u001B[39;49m\u001B[38;5;130;43;01m\\n\u001B[39;49;00m\u001B[38;5;124;43m    0, 32, 0,      # Vert\u001B[39;49m\u001B[38;5;130;43;01m\\n\u001B[39;49;00m\u001B[38;5;124;43m    0, 32, 16,     # Turquoise\u001B[39;49m\u001B[38;5;130;43;01m\\n\u001B[39;49;00m\u001B[38;5;124;43m    0, 32, 32,     # Cyan\u001B[39;49m\u001B[38;5;130;43;01m\\n\u001B[39;49;00m\u001B[38;5;124;43m    0, 16, 32,     # Bleu clair\u001B[39;49m\u001B[38;5;130;43;01m\\n\u001B[39;49;00m\u001B[38;5;124;43m    0, 0, 32       # Bleu\u001B[39;49m\u001B[38;5;130;43;01m\\n\u001B[39;49;00m\u001B[38;5;124;43m]\u001B[39;49m\u001B[38;5;130;43;01m\\n\u001B[39;49;00m\u001B[38;5;124;43mcolorIndex = 0\u001B[39;49m\u001B[38;5;130;43;01m\\n\u001B[39;49;00m\u001B[38;5;124;43mcurrentSound = -1\u001B[39;49m\u001B[38;5;130;43;01m\\n\u001B[39;49;00m\u001B[38;5;130;43;01m\\n\u001B[39;49;00m\u001B[38;5;124;43m# Event called every timer_period[0] milliseconds\u001B[39;49m\u001B[38;5;130;43;01m\\n\u001B[39;49;00m\u001B[38;5;124;43m@onevent\u001B[39;49m\u001B[38;5;130;43;01m\\n\u001B[39;49;00m\u001B[38;5;124;43mdef timer0():\u001B[39;49m\u001B[38;5;130;43;01m\\n\u001B[39;49;00m\u001B[38;5;124;43m    # Cycles color using rainbow color array (1 dimension)\u001B[39;49m\u001B[38;5;130;43;01m\\n\u001B[39;49;00m\u001B[38;5;124;43m    nf_leds_top(rainbow[colorIndex], rainbow[colorIndex + 1], rainbow[colorIndex + 2])\u001B[39;49m\u001B[38;5;130;43;01m\\n\u001B[39;49;00m\u001B[38;5;124;43m    colorIndex = (colorIndex + 3) \u001B[39;49m\u001B[38;5;132;43;01m% le\u001B[39;49;00m\u001B[38;5;124;43mn(rainbow)\u001B[39;49m\u001B[38;5;130;43;01m\\n\u001B[39;49;00m\u001B[38;5;130;43;01m\\n\u001B[39;49;00m\u001B[38;5;124;43mdef updateColor(s):\u001B[39;49m\u001B[38;5;130;43;01m\\n\u001B[39;49;00m\u001B[38;5;124;43m    global timer_period, currentSound\u001B[39;49m\u001B[38;5;130;43;01m\\n\u001B[39;49;00m\u001B[38;5;124;43m    # Depends on current speed of the robot\u001B[39;49m\u001B[38;5;130;43;01m\\n\u001B[39;49;00m\u001B[38;5;124;43m    if s == 0:\u001B[39;49m\u001B[38;5;130;43;01m\\n\u001B[39;49;00m\u001B[38;5;124;43m        #Pas de couleur\u001B[39;49m\u001B[38;5;130;43;01m\\n\u001B[39;49;00m\u001B[38;5;124;43m        nf_sound_play(-1)\u001B[39;49m\u001B[38;5;130;43;01m\\n\u001B[39;49;00m\u001B[38;5;124;43m        currentSound = -1\u001B[39;49m\u001B[38;5;130;43;01m\\n\u001B[39;49;00m\u001B[38;5;124;43m        nf_leds_top(0,0,0)\u001B[39;49m\u001B[38;5;130;43;01m\\n\u001B[39;49;00m\u001B[38;5;124;43m        timer_period[0] = 0\u001B[39;49m\u001B[38;5;130;43;01m\\n\u001B[39;49;00m\u001B[38;5;124;43m    elif s < 100:\u001B[39;49m\u001B[38;5;130;43;01m\\n\u001B[39;49;00m\u001B[38;5;124;43m        #Couleur Blue\u001B[39;49m\u001B[38;5;130;43;01m\\n\u001B[39;49;00m\u001B[38;5;124;43m        nf_sound_play(-1)\u001B[39;49m\u001B[38;5;130;43;01m\\n\u001B[39;49;00m\u001B[38;5;124;43m        currentSound = -1\u001B[39;49m\u001B[38;5;130;43;01m\\n\u001B[39;49;00m\u001B[38;5;124;43m        timer_period[0] = 0\u001B[39;49m\u001B[38;5;130;43;01m\\n\u001B[39;49;00m\u001B[38;5;124;43m        nf_leds_top(0,0,32)\u001B[39;49m\u001B[38;5;130;43;01m\\n\u001B[39;49;00m\u001B[38;5;124;43m    elif s >= 100 and s < 200:\u001B[39;49m\u001B[38;5;130;43;01m\\n\u001B[39;49;00m\u001B[38;5;124;43m        # Couleur Vert\u001B[39;49m\u001B[38;5;130;43;01m\\n\u001B[39;49;00m\u001B[38;5;124;43m        nf_sound_play(-1)\u001B[39;49m\u001B[38;5;130;43;01m\\n\u001B[39;49;00m\u001B[38;5;124;43m        currentSound = -1\u001B[39;49m\u001B[38;5;130;43;01m\\n\u001B[39;49;00m\u001B[38;5;124;43m        timer_period[0] = 0\u001B[39;49m\u001B[38;5;130;43;01m\\n\u001B[39;49;00m\u001B[38;5;124;43m        nf_leds_top(0,32,0)\u001B[39;49m\u001B[38;5;130;43;01m\\n\u001B[39;49;00m\u001B[38;5;124;43m    elif s >= 200 and s < 300:\u001B[39;49m\u001B[38;5;130;43;01m\\n\u001B[39;49;00m\u001B[38;5;124;43m        # Couleur Orange\u001B[39;49m\u001B[38;5;130;43;01m\\n\u001B[39;49;00m\u001B[38;5;124;43m        nf_sound_play(-1)\u001B[39;49m\u001B[38;5;130;43;01m\\n\u001B[39;49;00m\u001B[38;5;124;43m        currentSound = -1\u001B[39;49m\u001B[38;5;130;43;01m\\n\u001B[39;49;00m\u001B[38;5;124;43m        timer_period[0] = 0\u001B[39;49m\u001B[38;5;130;43;01m\\n\u001B[39;49;00m\u001B[38;5;124;43m        nf_leds_top(32,8,0)\u001B[39;49m\u001B[38;5;130;43;01m\\n\u001B[39;49;00m\u001B[38;5;124;43m    elif s >= 300 and s < 350:\u001B[39;49m\u001B[38;5;130;43;01m\\n\u001B[39;49;00m\u001B[38;5;124;43m        # Couleur Rouge\u001B[39;49m\u001B[38;5;130;43;01m\\n\u001B[39;49;00m\u001B[38;5;124;43m        #nf_sound_play(-1)\u001B[39;49m\u001B[38;5;130;43;01m\\n\u001B[39;49;00m\u001B[38;5;124;43m        currentSound = -1\u001B[39;49m\u001B[38;5;130;43;01m\\n\u001B[39;49;00m\u001B[38;5;124;43m        timer_period[0] = 0\u001B[39;49m\u001B[38;5;130;43;01m\\n\u001B[39;49;00m\u001B[38;5;124;43m        nf_leds_top(32,0,0)\u001B[39;49m\u001B[38;5;130;43;01m\\n\u001B[39;49;00m\u001B[38;5;124;43m    elif s >= 350 :\u001B[39;49m\u001B[38;5;130;43;01m\\n\u001B[39;49;00m\u001B[38;5;124;43m        # Couleur Arc en Ciel\u001B[39;49m\u001B[38;5;130;43;01m\\n\u001B[39;49;00m\u001B[38;5;124;43m        timer_period[0] = 100\u001B[39;49m\u001B[38;5;130;43;01m\\n\u001B[39;49;00m\u001B[38;5;124;43m        #if currentSound != 7:\u001B[39;49m\u001B[38;5;130;43;01m\\n\u001B[39;49;00m\u001B[38;5;124;43m        #nf_sound_play(7)\u001B[39;49m\u001B[38;5;130;43;01m\\n\u001B[39;49;00m\u001B[38;5;124;43m        #currentSound = 7\u001B[39;49m\u001B[38;5;130;43;01m\\n\u001B[39;49;00m\u001B[38;5;124;43m        nf_leds_top(32,32,32)\u001B[39;49m\u001B[38;5;130;43;01m\\n\u001B[39;49;00m\u001B[38;5;130;43;01m\\n\u001B[39;49;00m\u001B[38;5;124;43m# Event raised when a playing sound ends\u001B[39;49m\u001B[38;5;130;43;01m\\n\u001B[39;49;00m\u001B[38;5;124;43m@onevent\u001B[39;49m\u001B[38;5;130;43;01m\\n\u001B[39;49;00m\u001B[38;5;124;43mdef sound_finished():\u001B[39;49m\u001B[38;5;130;43;01m\\n\u001B[39;49;00m\u001B[38;5;124;43m    global currentSound\u001B[39;49m\u001B[38;5;130;43;01m\\n\u001B[39;49;00m\u001B[38;5;124;43m    nf_sound_play(currentSound)\u001B[39;49m\u001B[38;5;130;43;01m\\n\u001B[39;49;00m\u001B[38;5;130;43;01m\\n\u001B[39;49;00m\u001B[38;5;124;43m# Raised when a new speed is read from the EEG stream\u001B[39;49m\u001B[38;5;130;43;01m\\n\u001B[39;49;00m\u001B[38;5;124;43m@onevent\u001B[39;49m\u001B[38;5;130;43;01m\\n\u001B[39;49;00m\u001B[38;5;124;43mdef receivedSpeed(s):\u001B[39;49m\u001B[38;5;130;43;01m\\n\u001B[39;49;00m\u001B[38;5;124;43m    global speed\u001B[39;49m\u001B[38;5;130;43;01m\\n\u001B[39;49;00m\u001B[38;5;124;43m    updateColor(s)\u001B[39;49m\u001B[38;5;130;43;01m\\n\u001B[39;49;00m\u001B[38;5;124;43m    speed = s\u001B[39;49m\u001B[38;5;130;43;01m\\n\u001B[39;49;00m\u001B[38;5;130;43;01m\\n\u001B[39;49;00m\u001B[38;5;124;43m# Raised when the proximity sensors are read\u001B[39;49m\u001B[38;5;130;43;01m\\n\u001B[39;49;00m\u001B[38;5;124;43m# Frequency : 100Hz\u001B[39;49m\u001B[38;5;130;43;01m\\n\u001B[39;49;00m\u001B[38;5;124;43m@onevent\u001B[39;49m\u001B[38;5;130;43;01m\\n\u001B[39;49;00m\u001B[38;5;124;43mdef prox():\u001B[39;49m\u001B[38;5;130;43;01m\\n\u001B[39;49;00m\u001B[38;5;124;43m    # global speed, motor_left_target, motor_right_target, maxSteer, steerL, tmp    \u001B[39;49m\u001B[38;5;130;43;01m\\n\u001B[39;49;00m\u001B[38;5;124;43m    global  motor_left_target, motor_right_target\u001B[39;49m\u001B[38;5;130;43;01m\\n\u001B[39;49;00m\u001B[38;5;130;43;01m\\n\u001B[39;49;00m\u001B[38;5;124;43m    # If an obstacle is detected, stop the robot\u001B[39;49m\u001B[38;5;130;43;01m\\n\u001B[39;49;00m\u001B[38;5;124;43m    if(prox_horizontal[0] > 500 or prox_horizontal[1] > 500 or prox_horizontal[2] > 500 or prox_horizontal[3] > 500):\u001B[39;49m\u001B[38;5;130;43;01m\\n\u001B[39;49;00m\u001B[38;5;124;43m        speed = 0\u001B[39;49m\u001B[38;5;130;43;01m\\n\u001B[39;49;00m\u001B[38;5;124;43m        motor_left_target = 0\u001B[39;49m\u001B[38;5;130;43;01m\\n\u001B[39;49;00m\u001B[38;5;124;43m        motor_right_target = 0\u001B[39;49m\u001B[38;5;130;43;01m\\n\u001B[39;49;00m\u001B[38;5;130;43;01m\\n\u001B[39;49;00m\u001B[38;5;124;43m        return\u001B[39;49m\u001B[38;5;130;43;01m\\n\u001B[39;49;00m\u001B[38;5;124;43m    \u001B[39;49m\u001B[38;5;130;43;01m\\n\u001B[39;49;00m\u001B[38;5;124;43m    if prox_ground_delta[0] < 700 and prox_ground_delta[1] < 700:\u001B[39;49m\u001B[38;5;130;43;01m\\n\u001B[39;49;00m\u001B[38;5;124;43m        speed = 0\u001B[39;49m\u001B[38;5;130;43;01m\\n\u001B[39;49;00m\u001B[38;5;124;43m        motor_left_target = 0\u001B[39;49m\u001B[38;5;130;43;01m\\n\u001B[39;49;00m\u001B[38;5;124;43m        motor_right_target = 0\u001B[39;49m\u001B[38;5;130;43;01m\\n\u001B[39;49;00m\u001B[38;5;130;43;01m\\n\u001B[39;49;00m\u001B[38;5;124;43m        return\u001B[39;49m\u001B[38;5;130;43;01m\\n\u001B[39;49;00m\u001B[38;5;124;43m    # Read both bottom sensors\u001B[39;49m\u001B[38;5;130;43;01m\\n\u001B[39;49;00m\u001B[38;5;124;43m    right = prox_ground_delta[1]\u001B[39;49m\u001B[38;5;130;43;01m\\n\u001B[39;49;00m\u001B[38;5;124;43m    left = prox_ground_delta[0]\u001B[39;49m\u001B[38;5;130;43;01m\\n\u001B[39;49;00m\u001B[38;5;124;43m    \u001B[39;49m\u001B[38;5;130;43;01m\\n\u001B[39;49;00m\u001B[38;5;124;43m    print(right, left)\u001B[39;49m\u001B[38;5;130;43;01m\\n\u001B[39;49;00m\u001B[38;5;130;43;01m\\n\u001B[39;49;00m\u001B[38;5;124;43m    # Define speed correction to apply to motors\u001B[39;49m\u001B[38;5;130;43;01m\\n\u001B[39;49;00m\u001B[38;5;124;43m    tmp = maxSteer * left - maxSteer * right\u001B[39;49m\u001B[38;5;130;43;01m\\n\u001B[39;49;00m\u001B[38;5;124;43m    steerL = tmp // 50\u001B[39;49m\u001B[38;5;130;43;01m\\n\u001B[39;49;00m\u001B[38;5;130;43;01m\\n\u001B[39;49;00m\u001B[38;5;124;43m    # Set motor speed and correction\u001B[39;49m\u001B[38;5;130;43;01m\\n\u001B[39;49;00m\u001B[38;5;124;43m    motor_left_target = speed + steerL\u001B[39;49m\u001B[38;5;130;43;01m\\n\u001B[39;49;00m\u001B[38;5;124;43m    motor_right_target = speed - steerL\u001B[39;49m\u001B[38;5;130;43;01m\\n\u001B[39;49;00m\u001B[38;5;124;43m'\u001B[39;49m\u001B[43m)\u001B[49m\n",
      "File \u001B[1;32m~\\Anaconda3\\envs\\workspace\\lib\\site-packages\\IPython\\core\\interactiveshell.py:2357\u001B[0m, in \u001B[0;36mInteractiveShell.run_cell_magic\u001B[1;34m(self, magic_name, line, cell)\u001B[0m\n\u001B[0;32m   2355\u001B[0m \u001B[38;5;28;01mwith\u001B[39;00m \u001B[38;5;28mself\u001B[39m\u001B[38;5;241m.\u001B[39mbuiltin_trap:\n\u001B[0;32m   2356\u001B[0m     args \u001B[38;5;241m=\u001B[39m (magic_arg_s, cell)\n\u001B[1;32m-> 2357\u001B[0m     result \u001B[38;5;241m=\u001B[39m fn(\u001B[38;5;241m*\u001B[39margs, \u001B[38;5;241m*\u001B[39m\u001B[38;5;241m*\u001B[39mkwargs)\n\u001B[0;32m   2358\u001B[0m \u001B[38;5;28;01mreturn\u001B[39;00m result\n",
      "File \u001B[1;32m~\\Anaconda3\\envs\\workspace\\lib\\site-packages\\tdmclient\\notebook\\private.py:381\u001B[0m, in \u001B[0;36mrun_python\u001B[1;34m(line, cell)\u001B[0m\n\u001B[0;32m    378\u001B[0m     _interactive_console\u001B[38;5;241m.\u001B[39mclear_event_data()\n\u001B[0;32m    380\u001B[0m \u001B[38;5;28;01mtry\u001B[39;00m:\n\u001B[1;32m--> 381\u001B[0m     \u001B[43m_interactive_console\u001B[49m\u001B[38;5;241;43m.\u001B[39;49m\u001B[43mrun_program\u001B[49m\u001B[43m(\u001B[49m\u001B[43mpython_preamble\u001B[49m\u001B[43m \u001B[49m\u001B[38;5;241;43m+\u001B[39;49m\u001B[43m \u001B[49m\u001B[43mcell\u001B[49m\u001B[43m,\u001B[49m\n\u001B[0;32m    382\u001B[0m \u001B[43m                                     \u001B[49m\u001B[43mnodes\u001B[49m\u001B[38;5;241;43m=\u001B[39;49m\u001B[43mnodes\u001B[49m\u001B[43m \u001B[49m\u001B[38;5;28;43;01mif\u001B[39;49;00m\u001B[43m \u001B[49m\u001B[38;5;28;43mlen\u001B[39;49m\u001B[43m(\u001B[49m\u001B[43mnodes\u001B[49m\u001B[43m)\u001B[49m\u001B[43m \u001B[49m\u001B[38;5;241;43m>\u001B[39;49m\u001B[43m \u001B[49m\u001B[38;5;241;43m0\u001B[39;49m\u001B[43m \u001B[49m\u001B[38;5;28;43;01melse\u001B[39;49;00m\u001B[43m \u001B[49m\u001B[38;5;28;43;01mNone\u001B[39;49;00m\u001B[43m,\u001B[49m\n\u001B[0;32m    383\u001B[0m \u001B[43m                                     \u001B[49m\u001B[43mlanguage\u001B[49m\u001B[38;5;241;43m=\u001B[39;49m\u001B[38;5;124;43m\"\u001B[39;49m\u001B[38;5;124;43mpython\u001B[39;49m\u001B[38;5;124;43m\"\u001B[39;49m\u001B[43m,\u001B[49m\n\u001B[0;32m    384\u001B[0m \u001B[43m                                     \u001B[49m\u001B[43mwarning_missing_global\u001B[49m\u001B[38;5;241;43m=\u001B[39;49m\u001B[43mwarning_missing_global\u001B[49m\u001B[43m,\u001B[49m\n\u001B[0;32m    385\u001B[0m \u001B[43m                                     \u001B[49m\u001B[43mwait\u001B[49m\u001B[38;5;241;43m=\u001B[39;49m\u001B[43mwait\u001B[49m\u001B[43m,\u001B[49m\u001B[43m \u001B[49m\u001B[43mimport_thymio\u001B[49m\u001B[38;5;241;43m=\u001B[39;49m\u001B[43mimport_thymio\u001B[49m\u001B[43m)\u001B[49m\n\u001B[0;32m    386\u001B[0m \u001B[38;5;28;01mexcept\u001B[39;00m \u001B[38;5;167;01mKeyboardInterrupt\u001B[39;00m:\n\u001B[0;32m    387\u001B[0m     \u001B[38;5;66;03m# avoid long exception message with stack trace\u001B[39;00m\n\u001B[0;32m    388\u001B[0m     \u001B[38;5;28mprint\u001B[39m(\u001B[38;5;124m\"\u001B[39m\u001B[38;5;124mInterrupted\u001B[39m\u001B[38;5;124m\"\u001B[39m)\n",
      "File \u001B[1;32m~\\Anaconda3\\envs\\workspace\\lib\\site-packages\\tdmclient\\repl.py:560\u001B[0m, in \u001B[0;36mTDMConsole.run_program\u001B[1;34m(self, src, nodes, language, warning_missing_global, wait, import_thymio)\u001B[0m\n\u001B[0;32m    557\u001B[0m \u001B[38;5;28;01mwith\u001B[39;00m \u001B[38;5;28mself\u001B[39m\u001B[38;5;241m.\u001B[39mlock_robots(nodes) \u001B[38;5;28;01mas\u001B[39;00m nodes_l:\n\u001B[0;32m    558\u001B[0m     \u001B[38;5;66;03m# transpile, compile, load, set scratchpad, and run\u001B[39;00m\n\u001B[0;32m    559\u001B[0m     \u001B[38;5;28;01mfor\u001B[39;00m node \u001B[38;5;129;01min\u001B[39;00m nodes_l:\n\u001B[1;32m--> 560\u001B[0m         wait_for_node \u001B[38;5;241m=\u001B[39m \u001B[43mrun_node\u001B[49m\u001B[43m(\u001B[49m\u001B[43mnode\u001B[49m\u001B[43m)\u001B[49m\n\u001B[0;32m    561\u001B[0m         wait_for_nodes \u001B[38;5;241m=\u001B[39m wait_for_nodes \u001B[38;5;129;01mor\u001B[39;00m wait_for_node\n\u001B[0;32m    562\u001B[0m         running_nodes\u001B[38;5;241m.\u001B[39madd(node)\n",
      "File \u001B[1;32m~\\Anaconda3\\envs\\workspace\\lib\\site-packages\\tdmclient\\repl.py:539\u001B[0m, in \u001B[0;36mTDMConsole.run_program.<locals>.run_node\u001B[1;34m(node)\u001B[0m\n\u001B[0;32m    537\u001B[0m error \u001B[38;5;241m=\u001B[39m ClientAsync\u001B[38;5;241m.\u001B[39maw(node\u001B[38;5;241m.\u001B[39mcompile(src_aseba))\n\u001B[0;32m    538\u001B[0m \u001B[38;5;28;01mif\u001B[39;00m error \u001B[38;5;129;01mis\u001B[39;00m \u001B[38;5;129;01mnot\u001B[39;00m \u001B[38;5;28;01mNone\u001B[39;00m:\n\u001B[1;32m--> 539\u001B[0m     \u001B[38;5;28;01mraise\u001B[39;00m \u001B[38;5;167;01mException\u001B[39;00m(\u001B[43merror\u001B[49m\u001B[43m[\u001B[49m\u001B[38;5;124;43m\"\u001B[39;49m\u001B[38;5;124;43merror_msg\u001B[39;49m\u001B[38;5;124;43m\"\u001B[39;49m\u001B[43m]\u001B[49m)\n\u001B[0;32m    540\u001B[0m node\u001B[38;5;241m.\u001B[39msend_set_scratchpad(src_aseba)\n\u001B[0;32m    541\u001B[0m wait_for_node \u001B[38;5;241m=\u001B[39m wait\n",
      "\u001B[1;31mKeyError\u001B[0m: 'error_msg'"
     ]
    }
   ],
   "source": [
    "%%run_python\n",
    "\n",
    "\n",
    "#onevent startup\n",
    "maxSteer = 20\n",
    "speed = 0\n",
    "steerL = 0\n",
    "tmp = 0\n",
    "\n",
    "rainbow = [\n",
    "    32, 0, 0,      # Rouge\n",
    "    32, 16, 0,     # Orange\n",
    "    32, 32, 0,     # Jaune\n",
    "    16, 32, 0,     # Vert clair\n",
    "    0, 32, 0,      # Vert\n",
    "    0, 32, 16,     # Turquoise\n",
    "    0, 32, 32,     # Cyan\n",
    "    0, 16, 32,     # Bleu clair\n",
    "    0, 0, 32       # Bleu\n",
    "]\n",
    "colorIndex = 0\n",
    "currentSound = -1\n",
    "\n",
    "# Event called every timer_period[0] milliseconds\n",
    "@onevent\n",
    "def timer0():\n",
    "    # Cycles color using rainbow color array (1 dimension)\n",
    "    nf_leds_top(rainbow[colorIndex], rainbow[colorIndex + 1], rainbow[colorIndex + 2])\n",
    "    colorIndex = (colorIndex + 3) % len(rainbow)\n",
    "\n",
    "def updateColor(s):\n",
    "    global timer_period, currentSound\n",
    "    # Depends on current speed of the robot\n",
    "    if s == 0:\n",
    "        #Pas de couleur\n",
    "        nf_sound_play(-1)\n",
    "        currentSound = -1\n",
    "        nf_leds_top(0,0,0)\n",
    "        timer_period[0] = 0\n",
    "    elif s < 100:\n",
    "        #Couleur Blue\n",
    "        nf_sound_play(-1)\n",
    "        currentSound = -1\n",
    "        timer_period[0] = 0\n",
    "        nf_leds_top(0,0,32)\n",
    "    elif s >= 100 and s < 200:\n",
    "        # Couleur Vert\n",
    "        nf_sound_play(-1)\n",
    "        currentSound = -1\n",
    "        timer_period[0] = 0\n",
    "        nf_leds_top(0,32,0)\n",
    "    elif s >= 200 and s < 300:\n",
    "        # Couleur Orange\n",
    "        nf_sound_play(-1)\n",
    "        currentSound = -1\n",
    "        timer_period[0] = 0\n",
    "        nf_leds_top(32,8,0)\n",
    "    elif s >= 300 and s < 350:\n",
    "        # Couleur Rouge\n",
    "        #nf_sound_play(-1)\n",
    "        currentSound = -1\n",
    "        timer_period[0] = 0\n",
    "        nf_leds_top(32,0,0)\n",
    "    elif s >= 350 :\n",
    "        # Couleur Arc en Ciel\n",
    "        timer_period[0] = 100\n",
    "        #if currentSound != 7:\n",
    "        #nf_sound_play(7)\n",
    "        #currentSound = 7\n",
    "        nf_leds_top(32,32,32)\n",
    "\n",
    "# Event raised when a playing sound ends\n",
    "@onevent\n",
    "def sound_finished():\n",
    "    global currentSound\n",
    "    nf_sound_play(currentSound)\n",
    "\n",
    "# Raised when a new speed is read from the EEG stream\n",
    "@onevent\n",
    "def receivedSpeed(s):\n",
    "    global speed\n",
    "    updateColor(s)\n",
    "    speed = s\n",
    "\n",
    "# Raised when the proximity sensors are read\n",
    "# Frequency : 100Hz\n",
    "@onevent\n",
    "def prox():\n",
    "    # global speed, motor_left_target, motor_right_target, maxSteer, steerL, tmp    \n",
    "    global  motor_left_target, motor_right_target\n",
    "\n",
    "    # If an obstacle is detected, stop the robot\n",
    "    if(prox_horizontal[0] > 500 or prox_horizontal[1] > 500 or prox_horizontal[2] > 500 or prox_horizontal[3] > 500):\n",
    "        speed = 0\n",
    "        motor_left_target = 0\n",
    "        motor_right_target = 0\n",
    "\n",
    "        return\n",
    "    \n",
    "    if prox_ground_delta[0] < 700 and prox_ground_delta[1] < 700:\n",
    "        speed = 0\n",
    "        motor_left_target = 0\n",
    "        motor_right_target = 0\n",
    "\n",
    "        return\n",
    "    # Read both bottom sensors\n",
    "    right = prox_ground_delta[1]\n",
    "    left = prox_ground_delta[0]\n",
    "    \n",
    "    print(right, left)\n",
    "\n",
    "    # Define speed correction to apply to motors\n",
    "    tmp = maxSteer * left - maxSteer * right\n",
    "    steerL = tmp // 50\n",
    "\n",
    "    # Set motor speed and correction\n",
    "    motor_left_target = speed + steerL\n",
    "    motor_right_target = speed - steerL"
   ],
   "metadata": {
    "ExecuteTime": {
     "end_time": "2025-03-08T14:55:03.605050Z",
     "start_time": "2025-03-08T14:54:49.782760Z"
    }
   },
   "execution_count": 17
  },
  {
   "cell_type": "code",
   "outputs": [],
   "source": [
    "# speed = 300\n",
    "# while True:\n",
    "#     # get a new sample (you can also omit the timestamp part if you're not\n",
    "#     # interested in it)\n",
    "#     try : \n",
    "#         sample, timestamp = inlet.pull_sample()\n",
    "#         if timestamp:\n",
    "#             alpha = sample[0]\n",
    "#             # alpha = valeur actuelle - baseline\n",
    "#             # donc £si alpha < 0 : plus concentré = on augmente la vitesse\n",
    "#             # sinon on réduit la vitesse\n",
    "#             if alpha > 0:\n",
    "#                 speed = max(0,speed - alpha)\n",
    "#             else:\n",
    "#                 speed = min(speed - alpha,400)\n",
    "#                 \n",
    "#                 \n",
    "#     # except :\n",
    "#     #     print('Connection lost')\n",
    "#     #     speed = 0\n",
    "#     #     break\n",
    "#     # except KeyboardInterrupt:\n",
    "#     #     print('Connection lost')\n",
    "#     #     speed = 0\n",
    "#     #     break\n",
    "#     except Exception as e:\n",
    "#         print(f'Error : {e}')\n",
    "#         speed = 0\n",
    "#         break\n",
    "# \n",
    "#     # print(f'Alpha : {alpha}')\n",
    "#     # print(f'Speed : {speed}\\n')\n",
    "#     send_event('receivedSpeed', int(speed))\n",
    "#     \n",
    "#     # Raise \"receivedSpeed\" event in robot\n",
    "#     # send_event('receivedSpeed', 200)"
   ],
   "metadata": {
    "ExecuteTime": {
     "start_time": "2025-03-08T14:55:03.602992500Z"
    }
   },
   "execution_count": 0
  },
  {
   "cell_type": "code",
   "outputs": [],
   "source": [
    "send_event('receivedSpeed', 0)"
   ],
   "metadata": {
    "collapsed": false,
    "ExecuteTime": {
     "end_time": "2025-03-08T14:55:03.605050Z",
     "start_time": "2025-03-08T14:55:03.605050Z"
    }
   },
   "execution_count": null
  },
  {
   "cell_type": "code",
   "execution_count": 13,
   "metadata": {
    "ExecuteTime": {
     "end_time": "2025-03-05T13:42:10.222699300Z",
     "start_time": "2025-03-05T13:42:09.169767100Z"
    }
   },
   "outputs": [
    {
     "name": "stdout",
     "output_type": "stream",
     "text": [
      "Sending marker...\n"
     ]
    }
   ],
   "source": [
    " from pylsl import StreamInfo, StreamOutlet, local_clock\n",
    "import time\n",
    "\n",
    "# Define the stream: name, type, number of channels, nominal sampling rate, channel format, source id.\n",
    "# Here we're creating a marker stream with one marker.\n",
    "info = StreamInfo('Stop_openvibe', 'Markers', 1, 0, 'string', 'myuid34234')\n",
    "\n",
    "# Initialize the stream.\n",
    "outlet = StreamOutlet(info)\n",
    "\n",
    "# Send a marker and the current time stamp\n",
    "print(\"Sending marker...\")\n",
    "marker = \"OVTK_StimulationId_TrialStop\"\n",
    "timestamp = local_clock()\n",
    "outlet.push_sample([marker], timestamp)\n",
    "\n",
    "\n",
    "\n",
    "# To ensure that the marker is sent before the script closes, sleep for a short period.\n",
    "time.sleep(1)\n"
   ]
  },
  {
   "cell_type": "code",
   "outputs": [],
   "source": [
    "# end the run \n",
    "\n",
    "def disconnectStream():\n",
    "    inlet.close_stream()\n",
    "    print('Stream closed')"
   ],
   "metadata": {
    "collapsed": false,
    "ExecuteTime": {
     "end_time": "2024-04-28T10:34:27.087100400Z",
     "start_time": "2024-04-28T10:34:27.079100500Z"
    }
   },
   "execution_count": 44
  },
  {
   "cell_type": "code",
   "outputs": [],
   "source": [
    "from pylsl import StreamInfo, StreamOutlet\n",
    "\n",
    "\n",
    "# Create a new StreamInfo for a stream of integers with one channel\n",
    "info = StreamInfo('Stop_openvibe', 'Markers', 1, 0, 'int32', 'myuid54321')\n",
    "\n",
    "# Initialize the stream outlet\n",
    "outlet = StreamOutlet(info)\n",
    "\n",
    "start_time = time.time()\n",
    "\n",
    "print(\"Starting LSL stream, sending 0s...\")\n",
    "LSL_stream = True # Set to False to stop the stream\n",
    "while LSL_stream:\n",
    "    current_time = time.time()\n",
    "    elapsed_time = current_time - start_time\n",
    "\n",
    "    # Send a 0 if elapsed time is less than 3 seconds, otherwise send a 1\n",
    "    marker = 1 if elapsed_time > 3 else 0\n",
    "    outlet.push_sample([marker])\n",
    "\n",
    "    # Print the sent marker for demonstration purposes\n",
    "    print(f\"Sent marker: {marker}\")\n",
    "\n",
    "    # Sleep for a very short time to prevent overwhelming the receiving system\n",
    "    time.sleep(0.01)  # Adjust the sleep duration to your needs\n",
    "    if elapsed_time > 3:\n",
    "        LSL_stream = False\n",
    "    \n"
   ],
   "metadata": {
    "collapsed": false,
    "ExecuteTime": {
     "start_time": "2024-02-11T13:55:22.577565500Z"
    }
   },
   "execution_count": null
  },
  {
   "cell_type": "code",
   "outputs": [
    {
     "ename": "NameError",
     "evalue": "name 'outlet' is not defined",
     "output_type": "error",
     "traceback": [
      "\u001B[1;31m---------------------------------------------------------------------------\u001B[0m",
      "\u001B[1;31mNameError\u001B[0m                                 Traceback (most recent call last)",
      "Input \u001B[1;32mIn [28]\u001B[0m, in \u001B[0;36m<cell line: 1>\u001B[1;34m()\u001B[0m\n\u001B[1;32m----> 1\u001B[0m \u001B[43moutlet\u001B[49m\u001B[38;5;241m.\u001B[39mpush_sample([\u001B[38;5;241m0\u001B[39m])\n",
      "\u001B[1;31mNameError\u001B[0m: name 'outlet' is not defined"
     ]
    }
   ],
   "source": [
    "outlet.push_sample([0])"
   ],
   "metadata": {
    "collapsed": false,
    "ExecuteTime": {
     "end_time": "2024-04-17T17:44:24.643729Z",
     "start_time": "2024-04-17T17:44:24.027715100Z"
    }
   },
   "execution_count": 28
  },
  {
   "cell_type": "code",
   "outputs": [
    {
     "ename": "NameError",
     "evalue": "name 'outlet' is not defined",
     "output_type": "error",
     "traceback": [
      "\u001B[1;31m---------------------------------------------------------------------------\u001B[0m",
      "\u001B[1;31mNameError\u001B[0m                                 Traceback (most recent call last)",
      "Input \u001B[1;32mIn [29]\u001B[0m, in \u001B[0;36m<cell line: 1>\u001B[1;34m()\u001B[0m\n\u001B[1;32m----> 1\u001B[0m \u001B[43moutlet\u001B[49m\u001B[38;5;241m.\u001B[39mpush_sample([\u001B[38;5;241m1\u001B[39m])\n",
      "\u001B[1;31mNameError\u001B[0m: name 'outlet' is not defined"
     ]
    }
   ],
   "source": [
    "outlet.push_sample([1])"
   ],
   "metadata": {
    "collapsed": false,
    "ExecuteTime": {
     "end_time": "2024-04-17T17:44:25.025237400Z",
     "start_time": "2024-04-17T17:44:25.003237500Z"
    }
   },
   "execution_count": 29
  },
  {
   "cell_type": "code",
   "outputs": [],
   "source": [],
   "metadata": {
    "collapsed": false
   }
  }
 ],
 "metadata": {
  "kernelspec": {
   "display_name": "Python 3",
   "language": "python",
   "name": "python3"
  },
  "language_info": {
   "codemirror_mode": {
    "name": "ipython",
    "version": 3
   },
   "file_extension": ".py",
   "mimetype": "text/x-python",
   "name": "python",
   "nbconvert_exporter": "python",
   "pygments_lexer": "ipython3",
   "version": "3.12.0"
  }
 },
 "nbformat": 4,
 "nbformat_minor": 2
}
