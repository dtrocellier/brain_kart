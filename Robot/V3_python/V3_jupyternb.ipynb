{
 "cells": [
  {
   "cell_type": "code",
   "outputs": [],
   "source": [],
   "metadata": {
    "collapsed": false,
    "ExecuteTime": {
     "end_time": "2025-03-20T13:53:34.526907Z",
     "start_time": "2025-03-20T13:53:34.244906700Z"
    }
   },
   "execution_count": 7
  },
  {
   "cell_type": "code",
   "execution_count": 2,
   "metadata": {
    "ExecuteTime": {
     "end_time": "2025-03-20T16:27:35.950352400Z",
     "start_time": "2025-03-20T16:27:35.906685Z"
    }
   },
   "outputs": [],
   "source": [
    "import time\n",
    "\n",
    "import tdmclient.notebook\n",
    "from pylsl import StreamInlet, resolve_stream\n",
    "    "
   ]
  },
  {
   "cell_type": "code",
   "execution_count": 3,
   "metadata": {
    "ExecuteTime": {
     "end_time": "2025-03-20T16:27:36.193243700Z",
     "start_time": "2025-03-20T16:27:36.188885400Z"
    }
   },
   "outputs": [],
   "source": [
    "def connectStream():\n",
    "        # first resolve an EEG stream on the lab network\n",
    "        print(\"looking for an EEG stream...\")\n",
    "        streams = resolve_stream('type', 'EEG')\n",
    "\n",
    "\n",
    "        # create a new inlet to read from the stream\n",
    "        inlet = StreamInlet(streams[0])\n",
    "\n",
    "        print('connection found')\n",
    "        return inlet"
   ]
  },
  {
   "cell_type": "code",
   "outputs": [
    {
     "name": "stdout",
     "output_type": "stream",
     "text": [
      "In waiting for Thymio connection...\n",
      "Connection found\n"
     ]
    }
   ],
   "source": [
    "print(\"In waiting for Thymio connection...\")\n",
    "try:\n",
    "    await tdmclient.notebook.start()\n",
    "    print(\"Connection found\")\n",
    "except Exception as e:\n",
    "    print(f\"Connection failed : {e}\")"
   ],
   "metadata": {
    "ExecuteTime": {
     "end_time": "2025-03-20T16:27:36.950369700Z",
     "start_time": "2025-03-20T16:27:36.504891300Z"
    }
   },
   "execution_count": 4
  },
  {
   "cell_type": "code",
   "outputs": [
    {
     "name": "stdout",
     "output_type": "stream",
     "text": [
      "looking for an EEG stream...\n",
      "connection found\n"
     ]
    }
   ],
   "source": [
    "try : inlet = connectStream()\n",
    "except : print('No stream found')"
   ],
   "metadata": {
    "ExecuteTime": {
     "end_time": "2025-03-20T16:27:36.976410Z",
     "start_time": "2025-03-20T16:27:36.955369400Z"
    }
   },
   "execution_count": 5
  },
  {
   "cell_type": "code",
   "outputs": [],
   "source": [],
   "metadata": {
    "collapsed": false,
    "ExecuteTime": {
     "end_time": "2025-03-20T16:27:37.740578600Z",
     "start_time": "2025-03-20T16:27:37.729972200Z"
    }
   },
   "execution_count": 5
  },
  {
   "cell_type": "markdown",
   "source": [
    "Code pour suivre la ligne "
   ],
   "metadata": {}
  },
  {
   "cell_type": "code",
   "outputs": [],
   "source": [
    "%%run_python\n",
    "\n",
    "\n",
    "#onevent startup\n",
    "maxSteer = 20\n",
    "speed = 0\n",
    "steerL = 0\n",
    "tmp = 0\n",
    "# state = \"stop\" # state can eather be stop, running, disconected_eeg\n",
    "running = True \n",
    "\n",
    "rainbow = [\n",
    "    32, 0, 0,      # Rouge\n",
    "    32, 16, 0,     # Orange\n",
    "    32, 32, 0,     # Jaune\n",
    "    16, 32, 0,     # Vert clair\n",
    "    0, 32, 0,      # Vert\n",
    "    0, 32, 16,     # Turquoise\n",
    "    0, 32, 32,     # Cyan\n",
    "    0, 16, 32,     # Bleu clair\n",
    "    0, 0, 32       # Bleu\n",
    "]\n",
    "colorIndex = 0\n",
    "currentSound = -1\n",
    "\n",
    "# Event called every timer_period[0] milliseconds\n",
    "@onevent\n",
    "def timer0():\n",
    "    # Cycles color using rainbow color array (1 dimension)\n",
    "    nf_leds_top(rainbow[colorIndex], rainbow[colorIndex + 1], rainbow[colorIndex + 2])\n",
    "    colorIndex = (colorIndex + 3) % len(rainbow)\n",
    "\n",
    "def updateColor(s):\n",
    "    global timer_period, currentSound\n",
    "    # Depends on current speed of the robot\n",
    "    if running :\n",
    "        if s == 0:\n",
    "            #Pas de couleur\n",
    "            nf_sound_play(-1)\n",
    "            currentSound = -1\n",
    "            nf_leds_top(0,0,0)\n",
    "            timer_period[0] = 0\n",
    "        elif s < 100:\n",
    "            #Couleur Blue\n",
    "            nf_sound_play(-1)\n",
    "            currentSound = -1\n",
    "            timer_period[0] = 0\n",
    "            nf_leds_top(0,0,32)\n",
    "        elif s >= 100 and s < 200:\n",
    "            # Couleur Vert\n",
    "            nf_sound_play(-1)\n",
    "            currentSound = -1\n",
    "            timer_period[0] = 0\n",
    "            nf_leds_top(0,32,0)\n",
    "        elif s >= 200 and s < 250:\n",
    "            # Couleur Orange\n",
    "            nf_sound_play(-1)\n",
    "            currentSound = -1\n",
    "            timer_period[0] = 0\n",
    "            nf_leds_top(32,8,0)\n",
    "        elif s >= 250 and s < 280:\n",
    "            # Couleur Rouge\n",
    "            #nf_sound_play(-1)\n",
    "            currentSound = -1\n",
    "            timer_period[0] = 0\n",
    "            nf_leds_top(32,0,0)\n",
    "        elif s >= 280 :\n",
    "            # Couleur Arc en Ciel\n",
    "            timer_period[0] = 100\n",
    "            #if currentSound != 7:\n",
    "            #nf_sound_play(7)\n",
    "            #currentSound = 7\n",
    "            nf_leds_top(32,32,32)\n",
    "    else:\n",
    "        nf_leds_top(32,0,0)\n",
    "        timer_period[0] = 0\n",
    "\n",
    "# Event raised when a playing sound ends\n",
    "@onevent\n",
    "def sound_finished():\n",
    "    global currentSound\n",
    "    nf_sound_play(currentSound)\n",
    "\n",
    "# Raised when a new speed is read from the EEG stream\n",
    "@onevent\n",
    "def receivedSpeed(s):\n",
    "    global speed\n",
    "    updateColor(s)\n",
    "    speed = s\n",
    "\n",
    "\n",
    "# @onevent\n",
    "# def buttons() :\n",
    "#     global running, speed\n",
    "#     if button_forward ==1 :# \n",
    "#         running = True\n",
    "#         speed = 300\n",
    "#     elif button_backward == 1:\n",
    "#         running = False\n",
    "\n",
    "\n",
    "# Raised when the proximity sensors are read\n",
    "# Frequency : 100Hz\n",
    "@onevent\n",
    "def prox():\n",
    "     global speed, motor_left_target, motor_right_target, maxSteer, steerL, tmp,running\n",
    "    \n",
    "     if running  :\n",
    "\n",
    "        # If an obstacle is detected, stop the robot\n",
    "        if(prox_horizontal[0] > 500 or prox_horizontal[1] > 500 or prox_horizontal[2] > 500 or prox_horizontal[3] > 500):\n",
    "            speed = 0\n",
    "            motor_left_target = 0\n",
    "            motor_right_target = 0\n",
    "\n",
    "            # running= False\n",
    "            return\n",
    "        \n",
    "        if prox_ground_delta[0] < 700 and prox_ground_delta[1] < 700:\n",
    "            speed = 0\n",
    "            motor_left_target = 0\n",
    "            motor_right_target = 0\n",
    "\n",
    "            # running= False\n",
    "    \n",
    "            return\n",
    "        # Read both bottom sensors\n",
    "        right = prox_ground_delta[1]\n",
    "        left = prox_ground_delta[0]\n",
    "        \n",
    "\n",
    "    \n",
    "        # Define speed correction to apply to motors\n",
    "        tmp = maxSteer * left - maxSteer * right\n",
    "        steerL = tmp // 50\n",
    "    \n",
    "        # Set motor speed and correction\n",
    "        motor_left_target = speed + steerL\n",
    "        motor_right_target = speed - steerL"
   ],
   "metadata": {
    "ExecuteTime": {
     "end_time": "2025-03-20T16:27:38.999144400Z",
     "start_time": "2025-03-20T16:27:38.472005Z"
    }
   },
   "execution_count": 6
  },
  {
   "cell_type": "code",
   "outputs": [],
   "source": [],
   "metadata": {
    "collapsed": false,
    "ExecuteTime": {
     "end_time": "2025-03-20T16:27:39.012939200Z",
     "start_time": "2025-03-20T16:27:39.001144700Z"
    }
   },
   "execution_count": 6
  },
  {
   "cell_type": "code",
   "outputs": [],
   "source": [],
   "metadata": {
    "collapsed": false,
    "ExecuteTime": {
     "end_time": "2025-03-20T16:27:40.957541200Z",
     "start_time": "2025-03-20T16:27:40.945732800Z"
    }
   },
   "execution_count": 6
  },
  {
   "cell_type": "code",
   "outputs": [
    {
     "name": "stdout",
     "output_type": "stream",
     "text": [
      "looking for an EEG stream...\n",
      "connection found\n",
      "Error : the stream has been lost.\n"
     ]
    }
   ],
   "source": [
    "speed = 100\n",
    "try : inlet = connectStream()\n",
    "except : print('No stream found')\n",
    "\n",
    "# send_event('receivedSpeed', int(speed))\n",
    "# time.sleep(0.1)\n",
    "while True:\n",
    "    # get a new sample (you can also omit the timestamp part if you're not\n",
    "    # interested in it)\n",
    "    try : \n",
    "        sample, timestamp = inlet.pull_sample()\n",
    "        \n",
    "        if timestamp:\n",
    "            # alpha = valeur actuelle - baseline\n",
    "            # donc £si alpha < 0 : plus concentré = on augmente la vitesse\n",
    "            # sinon on réduit la vitesse\n",
    "            alpha = sample[0]\n",
    "            if alpha > 0:\n",
    "                speed = max(0,speed - alpha)\n",
    "            else:\n",
    "                speed = min(speed - alpha,300) # setup the max speed to 350 \n",
    "\n",
    "    except Exception as e:\n",
    "        print(f'Error : {e}')\n",
    "        speed = 0\n",
    "        break\n",
    "    # print(speed)\n",
    "    # Raise \"receivedSpeed\" event in robot\n",
    "    send_event('receivedSpeed', int(speed))\n",
    "\n"
   ],
   "metadata": {
    "ExecuteTime": {
     "end_time": "2025-03-20T17:08:28.497029900Z",
     "start_time": "2025-03-20T17:07:03.780185500Z"
    }
   },
   "execution_count": 12
  },
  {
   "cell_type": "code",
   "outputs": [],
   "source": [
    "# version sans EEG \n",
    "\"\"\"speed = 300\n",
    "while True:\n",
    "    # get a new sample (you can also omit the timestamp part if you're not\n",
    "    # interested in it)\n",
    "    try :\n",
    "        \n",
    "        if True:\n",
    "            alpha = 0\n",
    "            # alpha = valeur actuelle - baseline\n",
    "            # donc £si alpha < 0 : plus concentré = on augmente la vitesse\n",
    "            # sinon on réduit la vitesse\n",
    "            if alpha > 0:\n",
    "                speed = max(0,speed - alpha)\n",
    "            else:\n",
    "                speed = min(speed - alpha,400)\n",
    "\n",
    "    except Exception as e:\n",
    "        print(f'Error : {e}')\n",
    "        speed = 0\n",
    "        break\n",
    "        \n",
    "    send_event('receivedSpeed', int(speed))\n",
    "\n",
    "    # Raise \"receivedSpeed\" event in robot\n",
    "    # send_event('receivedSpeed', 200)\"\"\""
   ],
   "metadata": {
    "collapsed": false,
    "ExecuteTime": {
     "start_time": "2025-03-20T11:33:13.271637400Z"
    }
   },
   "execution_count": null
  },
  {
   "cell_type": "code",
   "outputs": [],
   "source": [
    "send_event('receivedSpeed', 0)"
   ],
   "metadata": {
    "collapsed": false,
    "ExecuteTime": {
     "end_time": "2025-03-08T14:55:03.605050Z",
     "start_time": "2025-03-08T14:55:03.605050Z"
    }
   },
   "execution_count": null
  },
  {
   "cell_type": "markdown",
   "source": [
    "# gerer la connection avec openvibe \n",
    "\n",
    "## option A : bouton \n",
    "\n",
    "## option B : \n",
    "\n",
    "\n"
   ],
   "metadata": {
    "collapsed": false
   }
  },
  {
   "cell_type": "code",
   "outputs": [],
   "source": [
    "\n",
    "import asyncio\n",
    "\n",
    "\n",
    "from tdmclient import ClientAsync\n",
    "\n",
    "\n",
    "\n",
    "client = ClientAsync()\n",
    "\n",
    "\n",
    "\n",
    "\n",
    "# Gestionnaire de connexion OpenViBE\n",
    "openvibe_connected = False\n",
    "\n",
    "async def toggle_openvibe(value):\n",
    "    global openvibe_connected\n",
    "    if value == 1 and not openvibe_connected:\n",
    "        print(\"Connexion à OpenViBE en cours...\")\n",
    "        try:\n",
    "            inlet = connectStream()  # Fonction déjà présente dans votre code\n",
    "            openvibe_connected = True\n",
    "            print(\"Connecté à OpenViBE\")\n",
    "        except:\n",
    "            print(\"Échec de connexion à OpenViBE\")\n",
    "    elif value == 0 and openvibe_connected:\n",
    "        print(\"Déconnexion d'OpenViBE...\")\n",
    "        openvibe_connected = False  # On coupe la connexion\n",
    "\n",
    " "
   ],
   "metadata": {
    "collapsed": false,
    "ExecuteTime": {
     "start_time": "2025-03-16T19:48:00.295198200Z"
    }
   },
   "execution_count": null
  },
  {
   "cell_type": "code",
   "outputs": [],
   "source": [
    "# Event appelé lorsqu'un bouton est pressé\n",
    "@onevent\n",
    "def buttons():\n",
    "    global state\n",
    "    if button.center == 1:\n",
    "        if state == \"stop\":\n",
    "            send_event(\"toggle_openvibe\", 1) # Demander la connexion\n",
    "        else:\n",
    "            send_event(\"toggle_openvibe\", 0) # Demander la déconnexion\n"
   ],
   "metadata": {
    "collapsed": false
   }
  }
 ],
 "metadata": {
  "kernelspec": {
   "display_name": "Python 3",
   "language": "python",
   "name": "python3"
  },
  "language_info": {
   "codemirror_mode": {
    "name": "ipython",
    "version": 3
   },
   "file_extension": ".py",
   "mimetype": "text/x-python",
   "name": "python",
   "nbconvert_exporter": "python",
   "pygments_lexer": "ipython3",
   "version": "3.12.0"
  }
 },
 "nbformat": 4,
 "nbformat_minor": 2
}
